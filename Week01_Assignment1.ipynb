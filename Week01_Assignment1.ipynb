{
  "nbformat": 4,
  "nbformat_minor": 0,
  "metadata": {
    "colab": {
      "provenance": [],
      "authorship_tag": "ABX9TyMT/pemaLihKoAbeOIE0iep",
      "include_colab_link": true
    },
    "kernelspec": {
      "name": "python3",
      "display_name": "Python 3"
    },
    "language_info": {
      "name": "python"
    }
  },
  "cells": [
    {
      "cell_type": "markdown",
      "metadata": {
        "id": "view-in-github",
        "colab_type": "text"
      },
      "source": [
        "<a href=\"https://colab.research.google.com/github/AbhishekPati332/Data-Engineering/blob/main/Week01_Assignment1.ipynb\" target=\"_parent\"><img src=\"https://colab.research.google.com/assets/colab-badge.svg\" alt=\"Open In Colab\"/></a>"
      ]
    },
    {
      "cell_type": "code",
      "source": [
        "#Python Basics Questions:-"
      ],
      "metadata": {
        "id": "gLMF3YI781AC"
      },
      "execution_count": null,
      "outputs": []
    },
    {
      "cell_type": "code",
      "source": [
        "#Q1 what is python and why is it popular?\n",
        "Python is a high level, easy to read programming language used for web development,data science, AI and more.\n",
        "Popular because:-\n",
        "1.Versatility\n",
        "2.Simplicity\n",
        "3.Good Ecosystem of Libraries\n",
        "4.Community Support\n",
        "5.Scalability\n",
        "6.Free & Open Source\n",
        "7.Tons of Build in Libraries"
      ],
      "metadata": {
        "id": "3tFLuyGq9HaL"
      },
      "execution_count": null,
      "outputs": []
    },
    {
      "cell_type": "code",
      "source": [
        "#Q2 What is an Interpreter in Python?\n",
        "An interpreter is a program that reads and executes Python code line by line, which helps in easy\n",
        "debugging and testing."
      ],
      "metadata": {
        "id": "E2K0MB6j-nL3"
      },
      "execution_count": null,
      "outputs": []
    },
    {
      "cell_type": "code",
      "source": [
        "#Q3 What are predefined keywords in PYthon?\n",
        "Keywords are reserved words in Python that have special meaning like\n",
        "if,for,while,def,return.\n",
        "We can not use them as Variable"
      ],
      "metadata": {
        "id": "1htD0LXx-nrQ"
      },
      "execution_count": null,
      "outputs": []
    },
    {
      "cell_type": "code",
      "source": [
        "#Q4 Can Keyword be used as Variable name\n",
        "NO."
      ],
      "metadata": {
        "id": "c9qFGAsb-oUp"
      },
      "execution_count": null,
      "outputs": []
    },
    {
      "cell_type": "code",
      "source": [
        "#Q5 What is mutability in Python\n",
        "Mutability means the object/value can be changed after it created. EX:- List,Set,bytearray,Dict"
      ],
      "metadata": {
        "id": "Pwmjf5Mz-ozI"
      },
      "execution_count": null,
      "outputs": []
    },
    {
      "cell_type": "code",
      "source": [
        "#Q6 Why are list mutable, but tuples immutable\n",
        "list are designed to store changing value.\n",
        "Tuples are used when you want fixed data(for safety and speed)"
      ],
      "metadata": {
        "id": "5og_xpCuA0qN"
      },
      "execution_count": null,
      "outputs": []
    },
    {
      "cell_type": "code",
      "source": [
        "#Q7 What is difference between \"==\" and \"is\" operators in Python?\n",
        "== checks if  values are equal whereas \"is\" checks if two variable refer to the same object\n",
        "in memory.\n"
      ],
      "metadata": {
        "id": "VQnvs24YA1OM"
      },
      "execution_count": null,
      "outputs": []
    },
    {
      "cell_type": "code",
      "source": [
        "#Q8 What are logical Operators in Python?\n",
        "symbols or keywords that connect two or more expressions, resulting in a single\n",
        "Boolean (true or false) value\n",
        "and :- True if both are True\n",
        "or :- True if at least one is True\n",
        "not :- Reverse True/False"
      ],
      "metadata": {
        "id": "zXySXLRtA1p2"
      },
      "execution_count": null,
      "outputs": []
    },
    {
      "cell_type": "code",
      "source": [
        "#Q9 What is type casting in Python?\n",
        "Type Casting is converting one data type into another.\n",
        "implicit and explicit two types of typecasting."
      ],
      "metadata": {
        "id": "xTvXFExmA2IO"
      },
      "execution_count": null,
      "outputs": []
    },
    {
      "cell_type": "code",
      "source": [
        "#Q10. Difference between implicit and explicit type casting?\n",
        "implicit:- Python does it automatically\n",
        "Explicit:- We do it Manually"
      ],
      "metadata": {
        "id": "lrVbYsmqEJ_B"
      },
      "execution_count": null,
      "outputs": []
    },
    {
      "cell_type": "code",
      "source": [
        "#Q11. What is the purpose of conditional statements in the python?\n",
        "to control the flow of execution in a program by allowing different blocks of code to be executed based on whether\n",
        "a specified condition is true or false."
      ],
      "metadata": {
        "id": "8YO6_oilEKil"
      },
      "execution_count": null,
      "outputs": []
    },
    {
      "cell_type": "code",
      "source": [
        "#Q12. How does the elif statement work?\n",
        "elif stands for else if , used to check multiple conditions after the first if.\n"
      ],
      "metadata": {
        "id": "5X_Dfkd5EK9j"
      },
      "execution_count": null,
      "outputs": []
    },
    {
      "cell_type": "code",
      "source": [
        "#Q13 What is the difference b/w for and while loop\n",
        "For loop iterates over a sequence , while loop keep executing till the condition is True."
      ],
      "metadata": {
        "id": "O51P7jysFj3Z"
      },
      "execution_count": null,
      "outputs": []
    },
    {
      "cell_type": "code",
      "source": [
        "#Q14 Describe a scenario where while loop is more suitable than for loop\n",
        "name = \"\"\n",
        "while name != \"exit\":\n",
        "    name = input(\"Enter name (type 'exit' to stop): \")\n",
        "\n",
        "#Here, we don’t know how many times user will enter input\n",
        "# — so while is better"
      ],
      "metadata": {
        "colab": {
          "base_uri": "https://localhost:8080/"
        },
        "id": "gedF3dTtFkm0",
        "outputId": "2d90a8f8-dc87-4093-a0cf-bc9cd5c2c2ef"
      },
      "execution_count": null,
      "outputs": [
        {
          "name": "stdout",
          "output_type": "stream",
          "text": [
            "Enter name (type 'exit' to stop): abhi\n",
            "Enter name (type 'exit' to stop): dkdk\n",
            "Enter name (type 'exit' to stop): djksks\n",
            "Enter name (type 'exit' to stop): djdjjd\n",
            "Enter name (type 'exit' to stop): exit\n"
          ]
        }
      ]
    },
    {
      "cell_type": "code",
      "execution_count": null,
      "metadata": {
        "id": "RHmN4DeVj7BK"
      },
      "outputs": [],
      "source": [
        "#Que 1 :- Write a program to Print Hello World\n"
      ]
    },
    {
      "cell_type": "code",
      "source": [
        "print(\"Hello World\")"
      ],
      "metadata": {
        "colab": {
          "base_uri": "https://localhost:8080/"
        },
        "id": "OsqixchSkAVI",
        "outputId": "b9116590-f7a6-412c-b68a-9431194ba981"
      },
      "execution_count": null,
      "outputs": [
        {
          "output_type": "stream",
          "name": "stdout",
          "text": [
            "Hello World\n"
          ]
        }
      ]
    },
    {
      "cell_type": "code",
      "source": [
        "#Que 2 :- Write a Python program that displays your name and age"
      ],
      "metadata": {
        "id": "v_gfmtt5kBs-"
      },
      "execution_count": null,
      "outputs": []
    },
    {
      "cell_type": "code",
      "source": [
        "name = \"Abhishek Patidar\"\n",
        "age = 21\n",
        "\n",
        "print(\"My name is:\", name)\n",
        "print(\"My age is:\", age)"
      ],
      "metadata": {
        "colab": {
          "base_uri": "https://localhost:8080/"
        },
        "id": "LRrQWMz_kDwh",
        "outputId": "ae8db90f-5b5e-4dce-d4f4-d4bc14babe12"
      },
      "execution_count": null,
      "outputs": [
        {
          "output_type": "stream",
          "name": "stdout",
          "text": [
            "My name is: Abhishek Patidar\n",
            "My age is: 21\n"
          ]
        }
      ]
    },
    {
      "cell_type": "code",
      "source": [
        "#Que 3:- Write code to print all the pre defined keywords in python using the keyword library"
      ],
      "metadata": {
        "id": "gvxOq3rHkFSo"
      },
      "execution_count": null,
      "outputs": []
    },
    {
      "cell_type": "code",
      "source": [
        "import keyword\n",
        "\n",
        "all_keywords = keyword.kwlist\n",
        "\n",
        "print(\"Python Keywords:\")\n",
        "for kw in all_keywords:\n",
        "\n",
        "  print(kw)\n"
      ],
      "metadata": {
        "colab": {
          "base_uri": "https://localhost:8080/"
        },
        "id": "QOaPPlIukHW7",
        "outputId": "b15e9763-25d9-4a00-d209-26ff1efc5031"
      },
      "execution_count": null,
      "outputs": [
        {
          "output_type": "stream",
          "name": "stdout",
          "text": [
            "Python Keywords:\n",
            "False\n",
            "None\n",
            "True\n",
            "and\n",
            "as\n",
            "assert\n",
            "async\n",
            "await\n",
            "break\n",
            "class\n",
            "continue\n",
            "def\n",
            "del\n",
            "elif\n",
            "else\n",
            "except\n",
            "finally\n",
            "for\n",
            "from\n",
            "global\n",
            "if\n",
            "import\n",
            "in\n",
            "is\n",
            "lambda\n",
            "nonlocal\n",
            "not\n",
            "or\n",
            "pass\n",
            "raise\n",
            "return\n",
            "try\n",
            "while\n",
            "with\n",
            "yield\n"
          ]
        }
      ]
    },
    {
      "cell_type": "code",
      "source": [
        "#Que 4:- Write a program that check if the given word is a python keyword"
      ],
      "metadata": {
        "id": "jrrTop5GlHnj"
      },
      "execution_count": null,
      "outputs": []
    },
    {
      "cell_type": "code",
      "source": [
        "import keyword\n",
        "\n",
        "word = input(\"Enter a word to check: \")\n",
        "\n",
        "if keyword.iskeyword(word):\n",
        "  print(\"'\" + word + \" ' is a Python keyword.\")\n",
        "else:\n",
        "  print(\"'\" + word + \" ' is a Python keyword.\")"
      ],
      "metadata": {
        "id": "Rnynd-uakqXH",
        "colab": {
          "base_uri": "https://localhost:8080/"
        },
        "outputId": "ec2d04cf-b2c5-4006-ce81-2ea08843bd85"
      },
      "execution_count": null,
      "outputs": [
        {
          "output_type": "stream",
          "name": "stdout",
          "text": [
            "Enter a word to check: key\n",
            "'key ' is a Python keyword.\n"
          ]
        }
      ]
    },
    {
      "cell_type": "code",
      "source": [
        "#Que 5:- Create a list and tuple in python, and demonstrate how attempting to chnage an element works differently for each"
      ],
      "metadata": {
        "id": "bOFSrZvDnwfg"
      },
      "execution_count": null,
      "outputs": []
    },
    {
      "cell_type": "code",
      "source": [
        "#Creating a list\n",
        "l = [1, 2 , \"abc\" , 'A' , 20.5]\n",
        "#changing an element in list\n",
        "print(l)\n",
        "l[2] = 23\n",
        "l[1] = \"abcd\"\n",
        "l[3] = 3\n",
        "print(l)"
      ],
      "metadata": {
        "colab": {
          "base_uri": "https://localhost:8080/"
        },
        "id": "YuA6gljDCRhN",
        "outputId": "d1e251b2-6236-416b-a161-b27f2414b01e"
      },
      "execution_count": null,
      "outputs": [
        {
          "output_type": "stream",
          "name": "stdout",
          "text": [
            "[1, 2, 'abc', 'A', 20.5]\n",
            "[1, 'abcd', 23, 3, 20.5]\n"
          ]
        }
      ]
    },
    {
      "cell_type": "code",
      "source": [
        "#Creating a tuple\n",
        "T = (1.3, 45 , \"abc\" , 13)\n",
        "print(T)\n",
        "#changing an element\n",
        "T[3] = \"apple\"\n",
        "#showing an error that tuple object does not support item assignment"
      ],
      "metadata": {
        "colab": {
          "base_uri": "https://localhost:8080/",
          "height": 193
        },
        "id": "iYakFVLXC0yE",
        "outputId": "9c81d041-a792-43d4-9e68-9d04b336aef4"
      },
      "execution_count": null,
      "outputs": [
        {
          "output_type": "stream",
          "name": "stdout",
          "text": [
            "(1.3, 45, 'abc', 13)\n"
          ]
        },
        {
          "output_type": "error",
          "ename": "TypeError",
          "evalue": "'tuple' object does not support item assignment",
          "traceback": [
            "\u001b[0;31m---------------------------------------------------------------------------\u001b[0m",
            "\u001b[0;31mTypeError\u001b[0m                                 Traceback (most recent call last)",
            "\u001b[0;32m/tmp/ipython-input-18-4119164979.py\u001b[0m in \u001b[0;36m<cell line: 0>\u001b[0;34m()\u001b[0m\n\u001b[1;32m      3\u001b[0m \u001b[0mprint\u001b[0m\u001b[0;34m(\u001b[0m\u001b[0mT\u001b[0m\u001b[0;34m)\u001b[0m\u001b[0;34m\u001b[0m\u001b[0;34m\u001b[0m\u001b[0m\n\u001b[1;32m      4\u001b[0m \u001b[0;31m#changing an element\u001b[0m\u001b[0;34m\u001b[0m\u001b[0;34m\u001b[0m\u001b[0m\n\u001b[0;32m----> 5\u001b[0;31m \u001b[0mT\u001b[0m\u001b[0;34m[\u001b[0m\u001b[0;36m3\u001b[0m\u001b[0;34m]\u001b[0m \u001b[0;34m=\u001b[0m \u001b[0;34m\"apple\"\u001b[0m\u001b[0;34m\u001b[0m\u001b[0;34m\u001b[0m\u001b[0m\n\u001b[0m",
            "\u001b[0;31mTypeError\u001b[0m: 'tuple' object does not support item assignment"
          ]
        }
      ]
    },
    {
      "cell_type": "code",
      "source": [
        "#Que 6:- Write a function to demonstarte the behaviour of mutable and immutable arguments"
      ],
      "metadata": {
        "id": "2DMpIt-DEA90"
      },
      "execution_count": null,
      "outputs": []
    },
    {
      "cell_type": "code",
      "source": [
        "def change_values(a,b):\n",
        "  a = a + 5\n",
        "  b.append(4)\n",
        "  print(\"Inside Function\")\n",
        "  print(\"a = \" , a)\n",
        "  print(\"b =\" , b)\n",
        "\n",
        "  #main code\n",
        "x = 10       #immutable variable\n",
        "y = [1,2,3]   #mutable list\n",
        "change_values(x,y)\n",
        "\n",
        "print(\"outside function:\")\n",
        "print(\"x =\", x)\n",
        "print(\"y= \", y)"
      ],
      "metadata": {
        "colab": {
          "base_uri": "https://localhost:8080/"
        },
        "id": "xRPRZWWLFMd0",
        "outputId": "b35308a1-764b-4a90-9823-960e2432f063"
      },
      "execution_count": null,
      "outputs": [
        {
          "output_type": "stream",
          "name": "stdout",
          "text": [
            "Inside Function\n",
            "a =  15\n",
            "b = [1, 2, 3, 4]\n",
            "outside function:\n",
            "x = 10\n",
            "y=  [1, 2, 3, 4]\n"
          ]
        }
      ]
    },
    {
      "cell_type": "code",
      "source": [
        "def change_value(a,b):\n",
        "  a= a+ 10\n",
        "  b.append(5)\n",
        "  print(\"Inside Function\")\n",
        "  print(\"a\" , a)\n",
        "  print(\"b\", b)\n",
        "\n",
        "#main code\n",
        "x = 2                #immutable variable\n",
        "y = [ 1, 2, 3, 4]    #mutable\n",
        "change_value(x,y)    #function call\n",
        "print(\"Outside Function\")\n",
        "print(\"x=\" , x)\n",
        "print(\"y=\" , y)\n",
        "\n"
      ],
      "metadata": {
        "colab": {
          "base_uri": "https://localhost:8080/"
        },
        "id": "NyBT1Af2FsVo",
        "outputId": "0348bb36-3c45-44e5-e280-4ca121785b0c"
      },
      "execution_count": null,
      "outputs": [
        {
          "output_type": "stream",
          "name": "stdout",
          "text": [
            "Inside Function\n",
            "a 12\n",
            "b [1, 2, 3, 4, 5]\n",
            "Outside Function\n",
            "x= 2\n",
            "y= [1, 2, 3, 4, 5]\n"
          ]
        }
      ]
    },
    {
      "cell_type": "code",
      "source": [
        "#Que 7:- Write a program that performs basic arithmetic operations an two user input numbers"
      ],
      "metadata": {
        "id": "jxlmCXAmLLOQ"
      },
      "execution_count": null,
      "outputs": []
    },
    {
      "cell_type": "code",
      "source": [
        "a = int(input(\"Enter a 1st No.\"))\n",
        "b = int(input(\"Enter a 2nd NO. \"))\n",
        "c = a+b\n",
        "print(c)\n",
        "d = a/b\n",
        "print(d)\n",
        "e = a**b\n",
        "f = a // b\n",
        "g = a^b\n",
        "h = a>>b\n",
        "print(e,f,g,h)"
      ],
      "metadata": {
        "colab": {
          "base_uri": "https://localhost:8080/"
        },
        "id": "Ic3tthaTPSQq",
        "outputId": "7786bca0-14d1-4c42-b56c-4f7e99fa125b"
      },
      "execution_count": null,
      "outputs": [
        {
          "output_type": "stream",
          "name": "stdout",
          "text": [
            "Enter a 1st No.2\n",
            "Enter a 2nd NO. 2\n",
            "4\n",
            "1.0\n",
            "4 1 0 0\n"
          ]
        }
      ]
    },
    {
      "cell_type": "code",
      "source": [
        "#Que 8 Write a program to demonstrate the use of logical operators"
      ],
      "metadata": {
        "id": "m6paZGteQJta"
      },
      "execution_count": null,
      "outputs": []
    },
    {
      "cell_type": "code",
      "source": [
        "#use of and\n",
        "result = (5>3) and (10<6)\n",
        "print(result)"
      ],
      "metadata": {
        "colab": {
          "base_uri": "https://localhost:8080/"
        },
        "id": "Gx7wTbTGRcF1",
        "outputId": "63f75138-5329-4e9b-fc95-23e496f320d0"
      },
      "execution_count": null,
      "outputs": [
        {
          "output_type": "stream",
          "name": "stdout",
          "text": [
            "False\n"
          ]
        }
      ]
    },
    {
      "cell_type": "code",
      "source": [
        "#use of or\n",
        "Passing_Marks = 45\n",
        "if(Passing_Marks<33 or Passing_Marks == 33):\n",
        "  print(\"Failll\")\n",
        "else:\n",
        "  print(\"Passs\")\n"
      ],
      "metadata": {
        "colab": {
          "base_uri": "https://localhost:8080/"
        },
        "id": "3ZLsERzHRwan",
        "outputId": "409f11ee-a643-4965-926b-ca7094f92b46"
      },
      "execution_count": null,
      "outputs": [
        {
          "output_type": "stream",
          "name": "stdout",
          "text": [
            "Passs\n"
          ]
        }
      ]
    },
    {
      "cell_type": "code",
      "source": [
        "#use of Not\n",
        "name = input(\"Enter your Name\")\n",
        "if not name or name.isdigit() :\n",
        "  print(\"You did not enter a nmae.\")\n",
        "else:\n",
        "  print(\"Hello\", name)"
      ],
      "metadata": {
        "colab": {
          "base_uri": "https://localhost:8080/"
        },
        "id": "MdvT9xLDStYj",
        "outputId": "27203ff3-06fc-4ec6-998f-392f287ec865"
      },
      "execution_count": null,
      "outputs": [
        {
          "output_type": "stream",
          "name": "stdout",
          "text": [
            "Enter your Name123\n",
            "You did not enter a nmae.\n"
          ]
        }
      ]
    },
    {
      "cell_type": "code",
      "source": [
        "#Que 9:- Write a python program to convert a user input from String to int , float and boolean types.\n",
        "user_input = input(\"Enter Your Name: \")\n",
        "\n",
        "int_value = int(user_input)  #convert to integer\n",
        "\n",
        "print(\"Integer:\", int_value)\n",
        "\n",
        "int_value = float(user_input)    #convert to float\n",
        "print(\"Float value\" , int_value)\n",
        "\n",
        "int_value = bool(user_input)      #convert to bool\n",
        "print(\"Boolean value\", int_value)    #yha pe agr 0 bhi pass kernge toh true hi aaega kyoki 0 string hai not int\n",
        "\n"
      ],
      "metadata": {
        "colab": {
          "base_uri": "https://localhost:8080/"
        },
        "id": "Muyqg6yZYWg4",
        "outputId": "b56018ee-8ac8-4520-ecd1-0d174ee3daf3"
      },
      "execution_count": null,
      "outputs": [
        {
          "output_type": "stream",
          "name": "stdout",
          "text": [
            "Enter Your Name: 0\n",
            "Integer: 0\n",
            "Float value 0.0\n",
            "Boolean value True\n"
          ]
        }
      ]
    },
    {
      "cell_type": "code",
      "source": [
        "#Que 10:- Write a code to demonstrate type casting with list elements"
      ],
      "metadata": {
        "id": "mXsMl_YadYTf"
      },
      "execution_count": null,
      "outputs": []
    },
    {
      "cell_type": "code",
      "source": [
        "l = [1, 2 , \"anc\" , 12.5]\n",
        "#implicit typecasting\n",
        "\n",
        "l[0]= 1\n",
        "#print(5+l[2])   #error aaega\n",
        "print(5+l[3])    #it automatic make int to float\n",
        "\n",
        "#No need to use any inbild keyword\n",
        "\n",
        "#Explixit Typecasting\n",
        "\n",
        "print(5+int(l[3]))   #yha ye chl rha hai but not in implicit"
      ],
      "metadata": {
        "colab": {
          "base_uri": "https://localhost:8080/"
        },
        "id": "IOYELULAdrM2",
        "outputId": "ce83946e-5294-4f2d-8088-8fc317cb18ba"
      },
      "execution_count": null,
      "outputs": [
        {
          "output_type": "stream",
          "name": "stdout",
          "text": [
            "17.5\n",
            "Abhi3\n",
            "17\n"
          ]
        }
      ]
    },
    {
      "cell_type": "code",
      "source": [
        "#Que 11:- Write a Program that check a no. is positive, negative orr zero\n",
        "\n",
        "a = 0\n",
        "if(a>0):\n",
        "  print(\"Number is Positive\")\n",
        "elif(a==0):\n",
        "  print(\"its zero\")\n",
        "else:\n",
        "  print(\"Number is Negative\")"
      ],
      "metadata": {
        "colab": {
          "base_uri": "https://localhost:8080/"
        },
        "id": "KpN3tdBbYm7F",
        "outputId": "0b87a9ff-a14e-477a-cca7-61aff7384f94"
      },
      "execution_count": null,
      "outputs": [
        {
          "output_type": "stream",
          "name": "stdout",
          "text": [
            "its zero\n"
          ]
        }
      ]
    },
    {
      "cell_type": "code",
      "source": [
        "#Que 12:- Write a for loop to print no. from 1 to 10"
      ],
      "metadata": {
        "id": "LAYuGhyUhV7L"
      },
      "execution_count": null,
      "outputs": []
    },
    {
      "cell_type": "code",
      "source": [
        "for i in range(1,11):\n",
        "  print(i, end =\" \")"
      ],
      "metadata": {
        "colab": {
          "base_uri": "https://localhost:8080/"
        },
        "id": "OOOECVHuhlu0",
        "outputId": "51f346a2-16b4-4bcc-ede5-fe7dfb749c77"
      },
      "execution_count": null,
      "outputs": [
        {
          "output_type": "stream",
          "name": "stdout",
          "text": [
            "1 2 3 4 5 6 7 8 9 10 "
          ]
        }
      ]
    },
    {
      "cell_type": "code",
      "source": [
        "#Que 13:- Write a python program to find sum of all even numbers between 1 to 50\n"
      ],
      "metadata": {
        "id": "WOaxVydqkEYx"
      },
      "execution_count": null,
      "outputs": []
    },
    {
      "cell_type": "code",
      "source": [
        "sum_even = 0\n",
        "for i in range(1,51):\n",
        "  if i % 2 == 0:\n",
        "    sum_even += i\n",
        "print(sum_even)"
      ],
      "metadata": {
        "colab": {
          "base_uri": "https://localhost:8080/"
        },
        "id": "drm_aMrdkkgG",
        "outputId": "7f9beb5d-754b-4bb0-a376-cce913f21c15"
      },
      "execution_count": null,
      "outputs": [
        {
          "output_type": "stream",
          "name": "stdout",
          "text": [
            "650\n"
          ]
        }
      ]
    },
    {
      "cell_type": "code",
      "source": [
        "#Que 14:- Write a program to rever a string using while loop"
      ],
      "metadata": {
        "id": "5tf9DKg7lI4H"
      },
      "execution_count": null,
      "outputs": []
    },
    {
      "cell_type": "code",
      "source": [
        "name = \"Abhishek\"\n",
        "print(name[::-1])"
      ],
      "metadata": {
        "colab": {
          "base_uri": "https://localhost:8080/"
        },
        "id": "7TrKtnlLmliy",
        "outputId": "43735ffc-d14d-4ace-fae8-9af6ef1972f7"
      },
      "execution_count": null,
      "outputs": [
        {
          "output_type": "stream",
          "name": "stdout",
          "text": [
            "kehsihbA\n"
          ]
        }
      ]
    },
    {
      "cell_type": "code",
      "source": [
        "text = input(\"Enter a String: \")\n",
        "#initialize index to last character\n",
        "i = len(text)-1           #len(text) mtlb total letters in string\n",
        "#Empty String to store the the reversed result\n",
        "reversed_text = \"\"\n",
        "\n",
        "#while loop to remove the string\n",
        "while i >= 0:\n",
        "  reversed_text += text[i]\n",
        "  i -= 1               dru#loop runs backward from the end to the start\n",
        "\n",
        "print(\"Reversed string:\" , reversed_text)\n",
        "\n",
        "\n"
      ],
      "metadata": {
        "colab": {
          "base_uri": "https://localhost:8080/"
        },
        "id": "wCoO_LWNm-dz",
        "outputId": "091a06ae-ba44-4cf6-af94-99019584b556"
      },
      "execution_count": null,
      "outputs": [
        {
          "output_type": "stream",
          "name": "stdout",
          "text": [
            "Enter a String: tfhbn\n",
            "Reversed string: nbhft\n"
          ]
        }
      ]
    },
    {
      "cell_type": "code",
      "source": [
        "#15. Write a Python program to calculate the factorial of a number provided by the user using a while loop"
      ],
      "metadata": {
        "id": "096pa3kSqgZS"
      },
      "execution_count": null,
      "outputs": []
    },
    {
      "cell_type": "code",
      "source": [
        "num = 2\n",
        "factorial = 1\n",
        "# 4*3*2*1\n",
        "i = 1 #intialize counter\n",
        "while i <= num:\n",
        "  factorial *= i\n",
        "  i += 1\n",
        "print(factorial)\n"
      ],
      "metadata": {
        "colab": {
          "base_uri": "https://localhost:8080/"
        },
        "id": "ijz727EHqqBp",
        "outputId": "5d8fcd6b-696a-4faf-eca7-1458a6108b41"
      },
      "execution_count": null,
      "outputs": [
        {
          "output_type": "stream",
          "name": "stdout",
          "text": [
            "2\n"
          ]
        }
      ]
    },
    {
      "cell_type": "code",
      "source": [],
      "metadata": {
        "id": "yEH2mv9Gsetk"
      },
      "execution_count": null,
      "outputs": []
    }
  ]
}