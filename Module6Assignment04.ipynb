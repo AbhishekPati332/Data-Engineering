{
  "nbformat": 4,
  "nbformat_minor": 0,
  "metadata": {
    "colab": {
      "provenance": [],
      "authorship_tag": "ABX9TyN12IIM9V+iLzx4qI7hNYJm",
      "include_colab_link": true
    },
    "kernelspec": {
      "name": "python3",
      "display_name": "Python 3"
    },
    "language_info": {
      "name": "python"
    }
  },
  "cells": [
    {
      "cell_type": "markdown",
      "metadata": {
        "id": "view-in-github",
        "colab_type": "text"
      },
      "source": [
        "<a href=\"https://colab.research.google.com/github/AbhishekPati332/Data-Engineering/blob/main/Module6Assignment04.ipynb\" target=\"_parent\"><img src=\"https://colab.research.google.com/assets/colab-badge.svg\" alt=\"Open In Colab\"/></a>"
      ]
    },
    {
      "cell_type": "markdown",
      "source": [
        "Theory Questions"
      ],
      "metadata": {
        "id": "DwFx_nQvfLgF"
      }
    },
    {
      "cell_type": "code",
      "source": [
        "#Q1. What is Object-Oriented Programming (OOP)?\n",
        "Object-Oriented Programming is a programming approach where code is organized around objects rather than functions. Each object contains data (attributes) and behavior (methods).\n",
        "It makes the code more modular, reusable, and easy to manage.\n",
        "Main concepts of OOP are:\n",
        "\n",
        "Class\n",
        "\n",
        "Object\n",
        "\n",
        "Inheritance\n",
        "\n",
        "Polymorphism\n",
        "\n",
        "Encapsulation\n",
        "\n",
        "Abstraction"
      ],
      "metadata": {
        "id": "k3GhvEZXfumA"
      },
      "execution_count": null,
      "outputs": []
    },
    {
      "cell_type": "code",
      "source": [
        "#2.What is a class in OOP?\n",
        "A class is a template or blueprint for creating objects. It defines what attributes (variables) and methods (functions) an object will have.\n",
        "ex:-\n",
        "class Car:\n",
        "    def start(self):\n",
        "        print(\"Car started\")\n"
      ],
      "metadata": {
        "id": "-j0nhe9Xfujc"
      },
      "execution_count": null,
      "outputs": []
    },
    {
      "cell_type": "code",
      "source": [
        "#Q3. What is an object in OOP?\n",
        "A:\n",
        "An object is a real instance of a class. It holds actual data and can perform actions defined in the class."
      ],
      "metadata": {
        "id": "pyWVMuWSfugR"
      },
      "execution_count": null,
      "outputs": []
    },
    {
      "cell_type": "code",
      "source": [
        "#Q4. What is the difference between abstraction and encapsulation?\n",
        "A:\n",
        "\n",
        "Abstraction means hiding the internal complexity and showing only the important details to the user.\n",
        "Example: You use print() without knowing its internal working.\n",
        "\n",
        "Encapsulation means wrapping data and methods into a single unit (class) and keeping data safe from outside access using private variables.\n",
        "Example: Using __balance in a Bank class to keep balance secure.\n"
      ],
      "metadata": {
        "id": "5MgpxQUXfudf"
      },
      "execution_count": null,
      "outputs": []
    },
    {
      "cell_type": "code",
      "source": [
        "#Q5. What are dunder methods in Python?\n",
        "A:\n",
        "Dunder (double underscore) methods are special predefined methods in Python used to define object behavior.\n",
        "They start and end with double underscores.\n",
        "Examples:\n",
        "\n",
        "__init__ → constructor\n",
        "\n",
        "__str__ → string representation\n",
        "\n",
        "__add__ → operator overloading"
      ],
      "metadata": {
        "id": "spVE0tWTfubH"
      },
      "execution_count": null,
      "outputs": []
    },
    {
      "cell_type": "code",
      "source": [
        "#Q6. Explain the concept of inheritance in OOP.\n",
        "A:\n",
        "Inheritance allows a class (child) to reuse code from another class (parent).\n",
        "The child class gets access to the parent’s attributes and methods, reducing code duplication."
      ],
      "metadata": {
        "id": "UjwcEOY9fuX6"
      },
      "execution_count": null,
      "outputs": []
    },
    {
      "cell_type": "code",
      "source": [
        "class Animal:\n",
        "    def speak(self):\n",
        "        print(\"Animal speaks\")\n",
        "\n",
        "class Dog(Animal):\n",
        "    def speak(self):\n",
        "        print(\"Dog barks\")\n"
      ],
      "metadata": {
        "id": "TsnadP1bfuVZ"
      },
      "execution_count": 130,
      "outputs": []
    },
    {
      "cell_type": "code",
      "source": [
        "#Q7. What is polymorphism in OOP?\n",
        "A:\n",
        "Polymorphism means same method name, different behavior based on the object.\n",
        "It allows different classes to define the same method in their own way.\n",
        "\n",
        "Example:"
      ],
      "metadata": {
        "id": "RvUYiYE-fuS2"
      },
      "execution_count": null,
      "outputs": []
    },
    {
      "cell_type": "code",
      "source": [
        "class Bird:\n",
        "    def fly(self):\n",
        "        print(\"Bird can fly\")\n",
        "\n",
        "class Penguin(Bird):\n",
        "    def fly(self):\n",
        "        print(\"Penguin can't fly\")\n"
      ],
      "metadata": {
        "id": "gYV4XVYyfuPw"
      },
      "execution_count": 132,
      "outputs": []
    },
    {
      "cell_type": "code",
      "source": [
        "#Q8:- How is encapsulation achieved in Python?\n",
        "A:\n",
        "Encapsulation is achieved by declaring variables as private using double underscores __, and using getter and setter methods to access or modify them.\n",
        "This helps to protect the internal data of a class."
      ],
      "metadata": {
        "id": "DacW9YkxfuMV"
      },
      "execution_count": null,
      "outputs": []
    },
    {
      "cell_type": "code",
      "source": [
        "class Bank:\n",
        "    def __init__(self):\n",
        "        self.__balance = 0\n",
        "\n",
        "    def get_balance(self):\n",
        "        return self.__balance\n",
        "\n",
        "    def deposit(self, amount):\n",
        "        self.__balance += amount\n"
      ],
      "metadata": {
        "id": "fBfI1uM7fuJI"
      },
      "execution_count": 133,
      "outputs": []
    },
    {
      "cell_type": "code",
      "source": [
        "Q9. What is a constructor in Python?\n",
        "A constructor is a special method used to create and initialize an object.\n",
        "In Python, the constructor is __init__(). It runs automatically when an object is made"
      ],
      "metadata": {
        "id": "03xwr4zzfuGZ"
      },
      "execution_count": null,
      "outputs": []
    },
    {
      "cell_type": "code",
      "source": [
        "Q9. What is a constructor in Python?\n",
        "A constructor is a special method used to create and initialize an object.\n",
        "In Python, the constructor is __init__(). It runs automatically when an object is made"
      ],
      "metadata": {
        "id": "RmqR1f5DfuD3"
      },
      "execution_count": null,
      "outputs": []
    },
    {
      "cell_type": "code",
      "source": [
        "Q11. What is method overloading in Python?\n",
        "Python doesn’t support true method overloading, but we can simulate it using default parameters or *args."
      ],
      "metadata": {
        "id": "rzlJQJL1fuA4"
      },
      "execution_count": null,
      "outputs": []
    },
    {
      "cell_type": "code",
      "source": [
        "class Demo:\n",
        "    def show(self, a=None, b=None):\n",
        "        if a and b:\n",
        "            print(a, b)\n",
        "        elif a:\n",
        "            print(a)\n",
        "        else:\n",
        "            print(\"No input\")\n"
      ],
      "metadata": {
        "id": "XJMz-Wwaft-R"
      },
      "execution_count": 134,
      "outputs": []
    },
    {
      "cell_type": "code",
      "source": [
        "Q12. What is method overriding in OOP?\n",
        "Method overriding means changing a method of the parent class in the child class.\n",
        "Same method name but new logic in the child class."
      ],
      "metadata": {
        "id": "8pEPlvqAft6Q"
      },
      "execution_count": null,
      "outputs": []
    },
    {
      "cell_type": "code",
      "source": [
        "class Parent:\n",
        "    def greet(self):\n",
        "        print(\"Hello from Parent\")\n",
        "\n",
        "class Child(Parent):\n",
        "    def greet(self):\n",
        "        print(\"Hello from Child\")  # Overrides\n"
      ],
      "metadata": {
        "id": "hQRIht9Lfttp"
      },
      "execution_count": 135,
      "outputs": []
    },
    {
      "cell_type": "code",
      "source": [
        "Q13. What is a property decorator in Python?\n",
        "@property is used to turn a method into a property, so we can access it like a variable (without brackets)."
      ],
      "metadata": {
        "id": "3XnuPyWYfs4Q"
      },
      "execution_count": null,
      "outputs": []
    },
    {
      "cell_type": "code",
      "source": [
        "class Circle:\n",
        "    def __init__(self, r):\n",
        "        self._radius = r\n",
        "\n",
        "    @property\n",
        "    def area(self):\n",
        "        return 3.14 * self._radius**2\n"
      ],
      "metadata": {
        "id": "ejPxfjh1fQkR"
      },
      "execution_count": 136,
      "outputs": []
    },
    {
      "cell_type": "code",
      "source": [
        "Q14. Why is polymorphism important in OOP?\n",
        "Polymorphism allows different classes to use the same method name, but behave differently.\n",
        "It improves flexibility and code reuse"
      ],
      "metadata": {
        "id": "4uED2CzThrRT"
      },
      "execution_count": null,
      "outputs": []
    },
    {
      "cell_type": "code",
      "source": [
        "class Bird:\n",
        "    def fly(self):\n",
        "        print(\"Flying\")\n",
        "\n",
        "class Sparrow(Bird):\n",
        "    def fly(self):\n",
        "        print(\"Sparrow flies\")\n",
        "\n",
        "class Penguin(Bird):\n",
        "    def fly(self):\n",
        "        print(\"Penguin can’t fly\")\n"
      ],
      "metadata": {
        "id": "ac5uvF3_hrNv"
      },
      "execution_count": null,
      "outputs": []
    },
    {
      "cell_type": "code",
      "source": [
        "Q15. What is an abstract class in Python?\n",
        "An abstract class cannot be directly used to create objects. It provides a template and requires child classes to implement its abstract methods."
      ],
      "metadata": {
        "id": "GpQ2LwqzhrKq"
      },
      "execution_count": null,
      "outputs": []
    },
    {
      "cell_type": "code",
      "source": [
        "from abc import ABC, abstractmethod\n",
        "\n",
        "class Animal(ABC):\n",
        "    @abstractmethod\n",
        "    def sound(self):\n",
        "        pass"
      ],
      "metadata": {
        "id": "FR5dKUWOhrFE"
      },
      "execution_count": null,
      "outputs": []
    },
    {
      "cell_type": "code",
      "source": [
        "Q16. What are the advantages of OOP?\n",
        "Modularity: Code is clean and organized\n",
        "\n",
        "Reusability: Use code again via inheritance\n",
        "\n",
        "Encapsulation: Protects data\n",
        "\n",
        "Polymorphism: Flexible function use\n",
        "\n",
        "Scalability: Easy to update and expand"
      ],
      "metadata": {
        "id": "JW8xU9d_hrBe"
      },
      "execution_count": null,
      "outputs": []
    },
    {
      "cell_type": "code",
      "source": [
        "Q17. What is the difference between a class variable and an instance variable?\n",
        "Class Variable: Shared by all objects of the class. Defined outside __init__().\n",
        "\n",
        "Instance Variable: Unique to each object. Defined inside __init__() using self."
      ],
      "metadata": {
        "id": "byKfeTRHhq-e"
      },
      "execution_count": null,
      "outputs": []
    },
    {
      "cell_type": "code",
      "source": [
        "class Student:\n",
        "    school = \"ABC\"  # Class variable\n",
        "\n",
        "    def __init__(self, name):\n",
        "        self.name = name  # Instance variable\n"
      ],
      "metadata": {
        "id": "T50FlvuJhq7b"
      },
      "execution_count": null,
      "outputs": []
    },
    {
      "cell_type": "code",
      "source": [
        "Q18. What is multiple inheritance in Python?\n",
        "Multiple inheritance means a class can inherit from more than one parent class.\n",
        "This allows a child class to access methods and properties from all its parent classes"
      ],
      "metadata": {
        "id": "Yi2Zqalyhq4v"
      },
      "execution_count": null,
      "outputs": []
    },
    {
      "cell_type": "code",
      "source": [
        "class A:\n",
        "    def show_a(self):\n",
        "        print(\"A\")\n",
        "\n",
        "class B:\n",
        "    def show_b(self):\n",
        "        print(\"B\")\n",
        "\n",
        "class C(A, B):  # Multiple inheritance\n",
        "    pass\n",
        "\n",
        "obj = C()\n",
        "obj.show_a()  # Output: A\n",
        "obj.show_b()  # Output: B\n"
      ],
      "metadata": {
        "id": "vKyXj4sYhq1U"
      },
      "execution_count": null,
      "outputs": []
    },
    {
      "cell_type": "code",
      "source": [
        "Q19. Explain the purpose of __str__ and __repr__ methods in Python.\n",
        "__str__ is used to return a readable and user-friendly string (for print).\n",
        "\n",
        "__repr__ is used to return an official string representation of the object (for debugging)."
      ],
      "metadata": {
        "id": "xr9LFrp3hqyn"
      },
      "execution_count": null,
      "outputs": []
    },
    {
      "cell_type": "code",
      "source": [
        "class Demo:\n",
        "    def __str__(self):\n",
        "        return \"User-friendly view\"\n",
        "\n",
        "    def __repr__(self):\n",
        "        return \"Debug view\""
      ],
      "metadata": {
        "id": "DipIUpS9hqv7"
      },
      "execution_count": null,
      "outputs": []
    },
    {
      "cell_type": "code",
      "source": [
        "Q20. What is the significance of the super() function in Python?\n",
        "super() is used to call methods from the parent class in a child class.\n",
        "It helps in code reuse and is useful in inheritance."
      ],
      "metadata": {
        "id": "GDWTPhG9hqtJ"
      },
      "execution_count": null,
      "outputs": []
    },
    {
      "cell_type": "code",
      "source": [
        "class Parent:\n",
        "    def show(self):\n",
        "        print(\"Parent\")\n",
        "\n",
        "class Child(Parent):\n",
        "    def show(self):\n",
        "        super().show()  # Calls parent class method\n",
        "        print(\"Child\")\n"
      ],
      "metadata": {
        "id": "YoUKlVJXhqqF"
      },
      "execution_count": null,
      "outputs": []
    },
    {
      "cell_type": "code",
      "source": [
        "Q21. What is the significance of the __del__ method in Python?\n",
        "__del__() is the destructor method, automatically called when an object is deleted.\n",
        "It is used to clean up resources, like closing files or connections"
      ],
      "metadata": {
        "id": "ymLCr8qfhqnH"
      },
      "execution_count": null,
      "outputs": []
    },
    {
      "cell_type": "code",
      "source": [
        "class Demo:\n",
        "    def __del__(self):\n",
        "        print(\"Object deleted\")\n"
      ],
      "metadata": {
        "id": "GlxAX_GXhqkE"
      },
      "execution_count": null,
      "outputs": []
    },
    {
      "cell_type": "code",
      "source": [
        "Q22. What is the difference between @staticmethod and @classmethod in Python?\n",
        "In Python, both @staticmethod and @classmethod are decorators used to define methods inside a class that are not instance methods. However, they serve different purposes and behave differently:\n",
        "\n",
        " @staticmethod:\n",
        "A static method does not take self or cls as the first argument.\n",
        "It behaves just like a regular function but lives inside the class's namespace.\n",
        "It cannot access or modify the class or instance attributes.\n",
        "It is mainly used when the method performs a function related to the class but doesn’t need class or instance data.\n",
        "Use Case: Utility functions that logically belong to the class.\n",
        "\n",
        " @classmethod:\n",
        "A class method takes cls (the class itself) as the first argument.\n",
        "It can access and modify class-level variables, but not instance-specific ones.\n",
        "Useful when you need to create factory methods or modify class state.\n",
        "Use Case: Alternative constructors or methods that deal with class-level data.\n",
        "\n",
        "class Demo:\n",
        "    @staticmethod\n",
        "    def add(x, y):\n",
        "        return x + y\n",
        "\n",
        "    @classmethod\n",
        "    def create(cls):\n",
        "        return cls()\n"
      ],
      "metadata": {
        "id": "NmifLewYhqhd"
      },
      "execution_count": null,
      "outputs": []
    },
    {
      "cell_type": "code",
      "source": [
        "Q23. How does polymorphism work in Python with inheritance?\n",
        "Polymorphism lets different classes implement the same method differently.\n",
        "With inheritance, child classes can override parent methods, and we can treat objects uniformly."
      ],
      "metadata": {
        "id": "Kmk40xcahqe0"
      },
      "execution_count": null,
      "outputs": []
    },
    {
      "cell_type": "code",
      "source": [
        "class Animal:\n",
        "    def sound(self):\n",
        "        print(\"Animal sound\")\n",
        "\n",
        "class Dog(Animal):\n",
        "    def sound(self):\n",
        "        print(\"Bark\")\n",
        "\n",
        "class Cat(Animal):\n",
        "    def sound(self):\n",
        "        print(\"Meow\")\n",
        "\n",
        "for obj in (Dog(), Cat()):\n",
        "    obj.sound()  # Different outputs with same method call\n"
      ],
      "metadata": {
        "id": "m6Bg9XoLhqao"
      },
      "execution_count": null,
      "outputs": []
    },
    {
      "cell_type": "code",
      "source": [
        "Q24. What is method chaining in Python OOP?\n",
        "Method chaining allows you to call multiple methods in one line, because each method returns self."
      ],
      "metadata": {
        "id": "hWUtQm20hqNW"
      },
      "execution_count": null,
      "outputs": []
    },
    {
      "cell_type": "code",
      "source": [
        "class Person:\n",
        "    def set_name(self, name):\n",
        "        self.name = name\n",
        "        return self\n",
        "\n",
        "    def set_age(self, age):\n",
        "        self.age = age\n",
        "        return self\n",
        "\n",
        "p = Person().set_name(\"John\").set_age(25)\n"
      ],
      "metadata": {
        "id": "1TNJt_bIhovv"
      },
      "execution_count": 137,
      "outputs": []
    },
    {
      "cell_type": "code",
      "source": [
        "Q25. What is the purpose of the __call__ method in Python?\n",
        "The __call__() method allows an object to be called like a function."
      ],
      "metadata": {
        "id": "YPPeWp3Fip3k"
      },
      "execution_count": null,
      "outputs": []
    },
    {
      "cell_type": "code",
      "source": [
        "class Demo:\n",
        "    def __call__(self, x):\n",
        "        print(f\"Called with {x}\")\n",
        "\n",
        "obj = Demo()\n",
        "obj(10)  # Output: Called with 10\n"
      ],
      "metadata": {
        "colab": {
          "base_uri": "https://localhost:8080/"
        },
        "id": "U_gmCnJpip0a",
        "outputId": "05def4ed-66d7-42df-9f4f-4e7cbd7c771d"
      },
      "execution_count": 138,
      "outputs": [
        {
          "output_type": "stream",
          "name": "stdout",
          "text": [
            "Called with 10\n"
          ]
        }
      ]
    },
    {
      "cell_type": "markdown",
      "source": [
        "Practical Questions\n"
      ],
      "metadata": {
        "id": "xuqq0w7yyj2Q"
      }
    },
    {
      "cell_type": "markdown",
      "source": [
        "Que1:- Create a parent class Animal with a method speak() that prints a generic message. Create a child class Dog that overrides the speak() method to print \"Bark!\"."
      ],
      "metadata": {
        "id": "wjM7_NKcyxif"
      }
    },
    {
      "cell_type": "code",
      "execution_count": 14,
      "metadata": {
        "id": "xr31qOSTyPqH"
      },
      "outputs": [],
      "source": [
        "class Animal:      #parent/base class\n",
        "  def speak(self):\n",
        "    print(\"The animal makes a sound\")\n",
        "class Dog(Animal):      #child class\n",
        "  def speak(self):\n",
        "    print(\"Bark!\")\n",
        ""
      ]
    },
    {
      "cell_type": "markdown",
      "source": [],
      "metadata": {
        "id": "bFs80tqTfD8M"
      }
    },
    {
      "cell_type": "code",
      "source": [
        "obj1 = Animal()"
      ],
      "metadata": {
        "id": "uAQ0JoQIyuz5"
      },
      "execution_count": 15,
      "outputs": []
    },
    {
      "cell_type": "code",
      "source": [
        "obj1.speak()"
      ],
      "metadata": {
        "colab": {
          "base_uri": "https://localhost:8080/"
        },
        "id": "9UBiO9Uj0H5w",
        "outputId": "51ae93dd-018c-4d64-e5cd-6136a7cc37f0"
      },
      "execution_count": 16,
      "outputs": [
        {
          "output_type": "stream",
          "name": "stdout",
          "text": [
            "The animal makes a sound\n"
          ]
        }
      ]
    },
    {
      "cell_type": "code",
      "source": [
        "obj2 = Dog()"
      ],
      "metadata": {
        "id": "7M_ki6Ogznlq"
      },
      "execution_count": 17,
      "outputs": []
    },
    {
      "cell_type": "code",
      "source": [
        "obj2.speak()  #The Dog class overrides the speak() method"
      ],
      "metadata": {
        "colab": {
          "base_uri": "https://localhost:8080/"
        },
        "id": "IkaRf_qG2Se3",
        "outputId": "5dee7832-dd98-48e4-802a-7fb42995031e"
      },
      "execution_count": 18,
      "outputs": [
        {
          "output_type": "stream",
          "name": "stdout",
          "text": [
            "Bark!\n"
          ]
        }
      ]
    },
    {
      "cell_type": "markdown",
      "source": [
        "Que2:- Write a program to create an abstract class Shape with a method area(). Derive classes Circle and Rectangle\n",
        "from it and implement the area() method in both."
      ],
      "metadata": {
        "id": "p94M_eWb3cxB"
      }
    },
    {
      "cell_type": "code",
      "source": [
        "import abc"
      ],
      "metadata": {
        "id": "2VskZA4J44dx"
      },
      "execution_count": 23,
      "outputs": []
    },
    {
      "cell_type": "code",
      "source": [
        "class Shape():\n",
        "\n",
        "  @abc.abstractmethod\n",
        "  def area(self):\n",
        "    pass"
      ],
      "metadata": {
        "id": "cD2yDKDg2UQx"
      },
      "execution_count": 28,
      "outputs": []
    },
    {
      "cell_type": "code",
      "source": [
        "class Circle(Shape):\n",
        "  def __init__(self, radius):\n",
        "    self.radius = radius\n",
        "\n",
        "  def area(self):\n",
        "    return 3.14 * self.radius * self.radius"
      ],
      "metadata": {
        "id": "pSS-hk5u4HGf"
      },
      "execution_count": 29,
      "outputs": []
    },
    {
      "cell_type": "code",
      "source": [
        "class Rectangle(Shape):\n",
        "  def __init__(self,length,width):\n",
        "    self.length = length\n",
        "    self.width = width\n",
        "\n",
        "  def area(self):\n",
        "    return self.length * self.width"
      ],
      "metadata": {
        "id": "nX54crCJ5rPy"
      },
      "execution_count": 35,
      "outputs": []
    },
    {
      "cell_type": "code",
      "source": [
        "c = Circle(5)\n",
        "r = Rectangle(4,6)\n",
        "\n",
        "print(\"Circle area:\" , c.area())\n",
        "print(\"Rectangle area:\" , r.area())"
      ],
      "metadata": {
        "colab": {
          "base_uri": "https://localhost:8080/"
        },
        "id": "GLRXYVTs6WHi",
        "outputId": "d274e27c-4fa4-4092-983c-3721cdb113b8"
      },
      "execution_count": 36,
      "outputs": [
        {
          "output_type": "stream",
          "name": "stdout",
          "text": [
            "Circle area: 78.5\n",
            "Rectangle area: 24\n"
          ]
        }
      ]
    },
    {
      "cell_type": "code",
      "source": [
        "from abc import ABC, abstractmethod\n",
        "\n",
        "# Abstract class\n",
        "class Shape(ABC):\n",
        "    @abstractmethod\n",
        "    def area(self):\n",
        "        pass  # No implementation here\n",
        "\n",
        "# Circle class\n",
        "class Circle(Shape):\n",
        "    def __init__(self, radius):\n",
        "        self.radius = radius\n",
        "\n",
        "    def area(self):\n",
        "        return 3.14 * self.radius * self.radius\n",
        "\n",
        "# Rectangle class\n",
        "class Rectangle(Shape):\n",
        "    def __init__(self, length, width):\n",
        "        self.length = length\n",
        "        self.width = width\n",
        "\n",
        "    def area(self):\n",
        "        return self.length * self.width\n",
        "\n",
        "# Usage\n",
        "c = Circle(5)\n",
        "r = Rectangle(4, 6)\n",
        "\n",
        "print(\"Circle area:\", c.area())       # Output: 78.5\n",
        "print(\"Rectangle area:\", r.area())    # Output: 24\n"
      ],
      "metadata": {
        "colab": {
          "base_uri": "https://localhost:8080/"
        },
        "id": "aMivY1qP6kXY",
        "outputId": "8ef03445-8012-44c7-af08-2f53d4c2e8b0"
      },
      "execution_count": 37,
      "outputs": [
        {
          "output_type": "stream",
          "name": "stdout",
          "text": [
            "Circle area: 78.5\n",
            "Rectangle area: 24\n"
          ]
        }
      ]
    },
    {
      "cell_type": "markdown",
      "source": [
        "Que 3:-Implement a multi-level inheritance scenario where a class Vehicle has an attribute type. Derive a class Car\n",
        "and further derive a class ElectricCar that adds a battery attribute."
      ],
      "metadata": {
        "id": "cZupEZPj7GFK"
      }
    },
    {
      "cell_type": "code",
      "source": [
        "class Vehicle:\n",
        "  def __init__(self,type):\n",
        "    self.type = type\n",
        "\n",
        "class Car(Vehicle):\n",
        "  def __init__(self, type, brand):\n",
        "    self.type = type  #super().__init__(type) ye line bhi likh sakte the #yahan parent (Vehicle) ka __init__ call ho raha hai\n",
        "    self.brand = brand\n",
        "\n",
        "class ElectricCar(Car):\n",
        "  def __init__(self,type,brand,Battery):\n",
        "    super().__init__(type,brand)\n",
        "    self.Battery = Battery"
      ],
      "metadata": {
        "id": "Fhc7EDkB69Bx"
      },
      "execution_count": 58,
      "outputs": []
    },
    {
      "cell_type": "code",
      "source": [
        "obj1 = ElectricCar(\"Four Wheeler\",\"Tesla\",\"75 kwh\")"
      ],
      "metadata": {
        "id": "j7NlcTZg86ue"
      },
      "execution_count": 59,
      "outputs": []
    },
    {
      "cell_type": "code",
      "source": [
        "print(\"Vehicle Type:\", obj1.type)"
      ],
      "metadata": {
        "colab": {
          "base_uri": "https://localhost:8080/"
        },
        "id": "mUkKX6s7CIlA",
        "outputId": "373a3d2d-02fc-4b9c-d600-4ffd60622cb0"
      },
      "execution_count": 60,
      "outputs": [
        {
          "output_type": "stream",
          "name": "stdout",
          "text": [
            "Vehicle Type: Four Wheeler\n"
          ]
        }
      ]
    },
    {
      "cell_type": "code",
      "source": [
        "obj1.type"
      ],
      "metadata": {
        "colab": {
          "base_uri": "https://localhost:8080/",
          "height": 35
        },
        "id": "TmaAgviD9JTv",
        "outputId": "39e8b4e2-4d49-4966-d8eb-21b3ec43719c"
      },
      "execution_count": 61,
      "outputs": [
        {
          "output_type": "execute_result",
          "data": {
            "text/plain": [
              "'Four Wheeler'"
            ],
            "application/vnd.google.colaboratory.intrinsic+json": {
              "type": "string"
            }
          },
          "metadata": {},
          "execution_count": 61
        }
      ]
    },
    {
      "cell_type": "code",
      "source": [
        "print(\"Car Brand:\", obj1.brand)"
      ],
      "metadata": {
        "colab": {
          "base_uri": "https://localhost:8080/"
        },
        "id": "4F265tlqCCbi",
        "outputId": "cdc1d523-8110-43a1-b54a-debfe97a9c0b"
      },
      "execution_count": 62,
      "outputs": [
        {
          "output_type": "stream",
          "name": "stdout",
          "text": [
            "Car Brand: Tesla\n"
          ]
        }
      ]
    },
    {
      "cell_type": "code",
      "source": [
        "print(\"Battery Capacity:\", obj1.Battery)"
      ],
      "metadata": {
        "colab": {
          "base_uri": "https://localhost:8080/"
        },
        "id": "1Cdv9khlCT84",
        "outputId": "d8fc6e88-99ea-42a9-9e61-24e40bb20d84"
      },
      "execution_count": 63,
      "outputs": [
        {
          "output_type": "stream",
          "name": "stdout",
          "text": [
            "Battery Capacity: 75 kwh\n"
          ]
        }
      ]
    },
    {
      "cell_type": "markdown",
      "source": [
        "Que4:- Demonstrate polymorphism by creating a base class Bird with a method fly(). Create two derived classes\n",
        "Sparrow and Penguin that override the fly() method.\n"
      ],
      "metadata": {
        "id": "v2jmVlAkCycI"
      }
    },
    {
      "cell_type": "code",
      "source": [
        "class Bird():\n",
        "  def fly(self):\n",
        "    print(\"Bird can fly\")\n",
        "\n",
        "class Sparrow(Bird):\n",
        "  def fly(self):\n",
        "    print(\"Sparrow flies high in the sky\")\n",
        "\n",
        "class Penguin(Bird):\n",
        "  def fly(self):\n",
        "    print(\"Penguin can not fly\")\n",
        "\n",
        "#create objects\n",
        "bird1 = Sparrow()\n",
        "bird2 = Penguin()\n",
        "\n",
        "bird1.fly()\n",
        "bird2.fly()\n",
        "\n",
        "#Polymorphism means:\n",
        "#Same method name (fly()), but different behavior in each class (Sparrow and Penguin)."
      ],
      "metadata": {
        "colab": {
          "base_uri": "https://localhost:8080/"
        },
        "id": "Bnb5jeIqCaZy",
        "outputId": "f431d7b2-9199-444b-edb4-db4bc738573c"
      },
      "execution_count": 68,
      "outputs": [
        {
          "output_type": "stream",
          "name": "stdout",
          "text": [
            "Sparrow flies high in the sky\n",
            "Penguin can not fly\n"
          ]
        }
      ]
    },
    {
      "cell_type": "markdown",
      "source": [
        "Que 5:- Write a program to demonstrate encapsulation by creating a class BankAccount with private attributes\n",
        "balance and methods to deposit, withdraw, and check balance."
      ],
      "metadata": {
        "id": "L6joZbMrEX4Y"
      }
    },
    {
      "cell_type": "code",
      "source": [
        "class BankAccount:\n",
        "  def __init__(self,balance):\n",
        "    self.__balance = balance\n",
        "\n",
        "  def deposit(self,amount):\n",
        "    self.__balance = self.__balance + amount\n",
        "\n",
        "  def withdraw(self,amount):\n",
        "    if self.__balance >= amount:\n",
        "      self.__balance = self.__balance - amount\n",
        "      return True\n",
        "    else:\n",
        "      return False\n",
        "  def get_balance(self):\n",
        "    return self.__balance"
      ],
      "metadata": {
        "id": "z9O4M5ooD-Pg"
      },
      "execution_count": 95,
      "outputs": []
    },
    {
      "cell_type": "code",
      "source": [
        "acc1 = BankAccount(1000)"
      ],
      "metadata": {
        "id": "BwnX9HJzElVz"
      },
      "execution_count": 96,
      "outputs": []
    },
    {
      "cell_type": "code",
      "source": [
        "acc1.get_balance()"
      ],
      "metadata": {
        "colab": {
          "base_uri": "https://localhost:8080/"
        },
        "id": "DQsfMHpFHka2",
        "outputId": "b3fc8ca7-762d-4001-9a29-c2de8013f4b4"
      },
      "execution_count": 97,
      "outputs": [
        {
          "output_type": "execute_result",
          "data": {
            "text/plain": [
              "1000"
            ]
          },
          "metadata": {},
          "execution_count": 97
        }
      ]
    },
    {
      "cell_type": "code",
      "source": [
        "acc1.deposit(500)"
      ],
      "metadata": {
        "id": "-YbijFpnHrfh"
      },
      "execution_count": 98,
      "outputs": []
    },
    {
      "cell_type": "code",
      "source": [
        "acc1.get_balance()"
      ],
      "metadata": {
        "colab": {
          "base_uri": "https://localhost:8080/"
        },
        "id": "iZfBoNPJH5FZ",
        "outputId": "3219ee74-6fd6-48aa-9a9c-b92289d97cbd"
      },
      "execution_count": 99,
      "outputs": [
        {
          "output_type": "execute_result",
          "data": {
            "text/plain": [
              "1500"
            ]
          },
          "metadata": {},
          "execution_count": 99
        }
      ]
    },
    {
      "cell_type": "code",
      "source": [
        "acc1.withdraw(300)"
      ],
      "metadata": {
        "colab": {
          "base_uri": "https://localhost:8080/"
        },
        "id": "FxHL89i_II9Y",
        "outputId": "fef8ec91-61c9-4c03-940b-c17e7ae1c9db"
      },
      "execution_count": 100,
      "outputs": [
        {
          "output_type": "execute_result",
          "data": {
            "text/plain": [
              "True"
            ]
          },
          "metadata": {},
          "execution_count": 100
        }
      ]
    },
    {
      "cell_type": "code",
      "source": [
        "acc1.withdraw(15000)"
      ],
      "metadata": {
        "colab": {
          "base_uri": "https://localhost:8080/"
        },
        "id": "KvzljYiJINbU",
        "outputId": "583a7303-d4be-407f-8335-04858cbdfd80"
      },
      "execution_count": 101,
      "outputs": [
        {
          "output_type": "execute_result",
          "data": {
            "text/plain": [
              "False"
            ]
          },
          "metadata": {},
          "execution_count": 101
        }
      ]
    },
    {
      "cell_type": "markdown",
      "source": [
        "Que 6:- Demonstrate runtime polymorphism using a method play() in a base class Instrument. Derive classes Guitar\n",
        "and Piano that implement their own version of play()."
      ],
      "metadata": {
        "id": "FoUHe7PFIo78"
      }
    },
    {
      "cell_type": "code",
      "source": [
        "# Base class\n",
        "class Instrument:\n",
        "    def play(self):\n",
        "        print(\"Instrument is being played\")\n",
        "\n",
        "# Derived class 1\n",
        "class Guitar(Instrument):\n",
        "    def play(self):\n",
        "        print(\"Strumming the guitar\")\n",
        "\n",
        "# Derived class 2\n",
        "class Piano(Instrument):\n",
        "    def play(self):\n",
        "        print(\"Playing the piano\")\n",
        "\n",
        "# Function to demonstrate runtime polymorphism\n",
        "def start_playing(instrument):\n",
        "    instrument.play()\n",
        "\n",
        "# Creating objects\n",
        "g = Guitar()\n",
        "p = Piano()\n",
        "\n",
        "# Calling play method - Runtime decides which play() runs\n",
        "start_playing(g)\n",
        "start_playing(p)\n"
      ],
      "metadata": {
        "colab": {
          "base_uri": "https://localhost:8080/"
        },
        "id": "dg5uAQLqIhqT",
        "outputId": "eeda97e5-c9cf-429b-b02b-fde9143ffcf9"
      },
      "execution_count": 109,
      "outputs": [
        {
          "output_type": "stream",
          "name": "stdout",
          "text": [
            "Strumming the guitar\n",
            "Playing the piano\n"
          ]
        }
      ]
    },
    {
      "cell_type": "code",
      "source": [
        "g.play()"
      ],
      "metadata": {
        "colab": {
          "base_uri": "https://localhost:8080/"
        },
        "id": "a7xffkdDJ6GD",
        "outputId": "63b4b4b7-214b-4a46-a205-aceb7568e269"
      },
      "execution_count": 110,
      "outputs": [
        {
          "output_type": "stream",
          "name": "stdout",
          "text": [
            "Strumming the guitar\n"
          ]
        }
      ]
    },
    {
      "cell_type": "code",
      "source": [
        "p.play()"
      ],
      "metadata": {
        "colab": {
          "base_uri": "https://localhost:8080/"
        },
        "id": "sc8ok1vHKCPH",
        "outputId": "c95c36ac-d9c7-4ac8-fa71-3d82443c6fb1"
      },
      "execution_count": 111,
      "outputs": [
        {
          "output_type": "stream",
          "name": "stdout",
          "text": [
            "Playing the piano\n"
          ]
        }
      ]
    },
    {
      "cell_type": "code",
      "source": [
        "Que7:- Create a class MathOperations with a class method add_numbers() to add two numbers and a static\n",
        "method subtract_numbers() to subtract two numbers."
      ],
      "metadata": {
        "id": "hcUnpw2QKuQK"
      },
      "execution_count": null,
      "outputs": []
    },
    {
      "cell_type": "code",
      "source": [
        "class MathOperations:\n",
        "\n",
        "    @classmethod\n",
        "    def add_numbers(cls, a, b):\n",
        "        return a + b\n",
        "\n",
        "    @staticmethod\n",
        "    def subtract_numbers(a, b):\n",
        "        return a - b\n",
        "\n",
        "# Calling class method\n",
        "sum_result = MathOperations.add_numbers(10, 5)\n",
        "print(\"Addition:\", sum_result)\n",
        "\n",
        "# Calling static method\n",
        "sub_result = MathOperations.subtract_numbers(10, 5)\n",
        "print(\"Subtraction:\", sub_result)\n",
        "\n",
        "\n"
      ],
      "metadata": {
        "colab": {
          "base_uri": "https://localhost:8080/"
        },
        "id": "9c3OGoRjWIUM",
        "outputId": "8e458c59-11ac-408c-a855-a521f77aa4cf"
      },
      "execution_count": 112,
      "outputs": [
        {
          "output_type": "stream",
          "name": "stdout",
          "text": [
            "Addition: 15\n",
            "Subtraction: 5\n"
          ]
        }
      ]
    },
    {
      "cell_type": "markdown",
      "source": [
        "8. Implement a class Person with a class method to count the total number of persons created."
      ],
      "metadata": {
        "id": "68csS7v7XyVe"
      }
    },
    {
      "cell_type": "code",
      "source": [
        "class Person:\n",
        "    count = 0  # class variable to count number of persons\n",
        "\n",
        "    def __init__(self, name):\n",
        "        self.name = name\n",
        "        Person.count += 1  # increase count when object is created\n",
        "\n",
        "    @classmethod\n",
        "    def get_person_count(cls):\n",
        "        return cls.count\n",
        "\n",
        "# Creating some Person objects\n",
        "p1 = Person(\"Abhishek\")\n",
        "p2 = Person(\"Ravi\")\n",
        "p3 = Person(\"Aman\")\n",
        "\n",
        "# Calling class method to get total count\n",
        "print(\"Total Persons created:\", Person.get_person_count())\n"
      ],
      "metadata": {
        "colab": {
          "base_uri": "https://localhost:8080/"
        },
        "id": "y65z0KGIXvaj",
        "outputId": "5db575fe-0075-48f4-ccd8-e4e2590fef01"
      },
      "execution_count": 113,
      "outputs": [
        {
          "output_type": "stream",
          "name": "stdout",
          "text": [
            "Total Persons created: 3\n"
          ]
        }
      ]
    },
    {
      "cell_type": "markdown",
      "source": [
        "9. Write a class Fraction with attributes numerator and denominator. Override the str method to display the\n",
        "fraction as \"numerator/denominator\"."
      ],
      "metadata": {
        "id": "7ZJhcxwdYaDz"
      }
    },
    {
      "cell_type": "code",
      "source": [
        "class Fraction:\n",
        "    def __init__(self, numerator, denominator):\n",
        "        self.numerator = numerator\n",
        "        self.denominator = denominator\n",
        "\n",
        "    def __str__(self):\n",
        "        return f\"{self.numerator}/{self.denominator}\"\n",
        "\n",
        "# Example usage:\n",
        "f1 = Fraction(3, 4)\n",
        "print(f1)\n",
        "\n",
        "f2 = Fraction(7, 2)\n",
        "print(f2)\n"
      ],
      "metadata": {
        "colab": {
          "base_uri": "https://localhost:8080/"
        },
        "id": "yuoGv61xYWD1",
        "outputId": "20db7fe2-00f5-4e5d-a887-08041fea573b"
      },
      "execution_count": 114,
      "outputs": [
        {
          "output_type": "stream",
          "name": "stdout",
          "text": [
            "3/4\n",
            "7/2\n"
          ]
        }
      ]
    },
    {
      "cell_type": "markdown",
      "source": [
        "10. Demonstrate operator overloading by creating a class Vector and overriding the add method to add two\n",
        "vectors."
      ],
      "metadata": {
        "id": "MmDWudRYY9dX"
      }
    },
    {
      "cell_type": "code",
      "source": [
        "class Vector:\n",
        "    def __init__(self, x, y):\n",
        "        self.x = x\n",
        "        self.y = y\n",
        "\n",
        "    def __add__(self, other):\n",
        "        return Vector(self.x + other.x, self.y + other.y)\n",
        "\n",
        "    def __str__(self):\n",
        "        return f\"({self.x}, {self.y})\"\n",
        "\n",
        "\n",
        "v1 = Vector(2, 3)\n",
        "v2 = Vector(4, 5)\n",
        "\n",
        "v3 = v1 + v2   # This calls v1.__add__(v2)\n",
        "print(\"Sum of vectors:\", v3)\n"
      ],
      "metadata": {
        "colab": {
          "base_uri": "https://localhost:8080/"
        },
        "id": "ynMmThq4Y7Nw",
        "outputId": "61b53c8e-a9f7-496c-bb89-b77d22f5a1e0"
      },
      "execution_count": 115,
      "outputs": [
        {
          "output_type": "stream",
          "name": "stdout",
          "text": [
            "Sum of vectors: (6, 8)\n"
          ]
        }
      ]
    },
    {
      "cell_type": "markdown",
      "source": [
        "11. Create a class Person with attributes name and age. Add a method greet() that prints \"Hello, my name is\n",
        "{name} and I am {age} years old.\"\n",
        "\n",
        "\n"
      ],
      "metadata": {
        "id": "IrZvMG6fZg4I"
      }
    },
    {
      "cell_type": "code",
      "source": [
        "class Person:\n",
        "    def __init__(self, name, age):\n",
        "        self.name = name\n",
        "        self.age = age\n",
        "\n",
        "    def greet(self):\n",
        "        print(f\"Hello, my name is {self.name} and I am {self.age} years old.\")\n",
        "\n",
        "\n",
        "p1 = Person(\"Abhishek\", 21)\n",
        "p1.greet()\n"
      ],
      "metadata": {
        "colab": {
          "base_uri": "https://localhost:8080/"
        },
        "id": "Lk4Cr2wVZZ15",
        "outputId": "6a470ab2-1235-41bc-f3cc-0b42e125ba71"
      },
      "execution_count": 116,
      "outputs": [
        {
          "output_type": "stream",
          "name": "stdout",
          "text": [
            "Hello, my name is Abhishek and I am 21 years old.\n"
          ]
        }
      ]
    },
    {
      "cell_type": "markdown",
      "source": [
        "12. Implement a class Student with attributes name and grades. Create a method average_grade() to compute\n",
        "the average of the grades."
      ],
      "metadata": {
        "id": "F6vXDplaZvoz"
      }
    },
    {
      "cell_type": "code",
      "source": [
        "class Student:\n",
        "    def __init__(self, name, grades):\n",
        "        self.name = name\n",
        "        self.grades = grades  # list of numbers\n",
        "\n",
        "    def average_grade(self):\n",
        "        if len(self.grades) == 0:\n",
        "            return 0\n",
        "        return sum(self.grades) / len(self.grades)\n",
        "\n",
        "\n",
        "s1 = Student(\"Abhishek\", [85, 90, 78, 92])\n",
        "print(f\"{s1.name}'s average grade is:\", s1.average_grade())\n",
        "\n",
        "s2 = Student(\"Ravi\", [])\n",
        "print(f\"{s2.name}'s average grade is:\", s2.average_grade())\n"
      ],
      "metadata": {
        "colab": {
          "base_uri": "https://localhost:8080/"
        },
        "id": "5F2pD4FfZsSn",
        "outputId": "a82a6d60-ff13-42be-e27c-96ee5e8a035b"
      },
      "execution_count": 117,
      "outputs": [
        {
          "output_type": "stream",
          "name": "stdout",
          "text": [
            "Abhishek's average grade is: 86.25\n",
            "Ravi's average grade is: 0\n"
          ]
        }
      ]
    },
    {
      "cell_type": "markdown",
      "source": [
        "13. Create a class Rectangle with methods set_dimensions() to set the dimensions and area() to calculate the\n",
        "area"
      ],
      "metadata": {
        "id": "pQqwuwcRaPnT"
      }
    },
    {
      "cell_type": "code",
      "source": [
        "class Rectangle:\n",
        "    def __init__(self):\n",
        "        self.length = 0\n",
        "        self.width = 0\n",
        "\n",
        "    def set_dimensions(self, length, width):\n",
        "        self.length = length\n",
        "        self.width = width\n",
        "\n",
        "    def area(self):\n",
        "        return self.length * self.width\n",
        "\n",
        "# Example usage:\n",
        "r1 = Rectangle()\n",
        "r1.set_dimensions(5, 3)\n",
        "print(\"Area of rectangle is:\", r1.area())\n"
      ],
      "metadata": {
        "colab": {
          "base_uri": "https://localhost:8080/"
        },
        "id": "bjKIafquZvGp",
        "outputId": "cd7e7aaa-912f-4c20-dc4d-09d158cbbaaf"
      },
      "execution_count": 118,
      "outputs": [
        {
          "output_type": "stream",
          "name": "stdout",
          "text": [
            "Area of rectangle is: 15\n"
          ]
        }
      ]
    },
    {
      "cell_type": "markdown",
      "source": [
        "14. Create a class Employee with a method calculate_salary() that computes the salary based on hours worked\n",
        "and hourly rate. Create a derived class Manager that adds a bonus to the salary"
      ],
      "metadata": {
        "id": "Qa8aeBlcaszs"
      }
    },
    {
      "cell_type": "code",
      "source": [
        "class Employee:\n",
        "    def __init__(self, name, hours_worked, hourly_rate):\n",
        "        self.name = name\n",
        "        self.hours_worked = hours_worked\n",
        "        self.hourly_rate = hourly_rate\n",
        "\n",
        "    def calculate_salary(self):\n",
        "        return self.hours_worked * self.hourly_rate\n",
        "\n",
        "class Manager(Employee):\n",
        "    def __init__(self, name, hours_worked, hourly_rate, bonus):\n",
        "        super().__init__(name, hours_worked, hourly_rate)\n",
        "        self.bonus = bonus\n",
        "\n",
        "    def calculate_salary(self):\n",
        "        base_salary = super().calculate_salary()\n",
        "        return base_salary + self.bonus\n",
        "\n",
        "# Example usage\n",
        "e1 = Employee(\"Ravi\", 40, 200)\n",
        "print(f\"{e1.name}'s salary is: ₹{e1.calculate_salary()}\")\n",
        "\n",
        "m1 = Manager(\"Abhishek\", 40, 300, 5000)\n",
        "print(f\"{m1.name}'s salary is: ₹{m1.calculate_salary()}\")\n",
        "\n",
        "\n"
      ],
      "metadata": {
        "id": "pl5Rb1SjasOR"
      },
      "execution_count": null,
      "outputs": []
    },
    {
      "cell_type": "markdown",
      "source": [
        "15. Create a class Product with attributes name, price, and quantity. Implement a method total_price() that\n",
        "calculates the total price of the product\n",
        "\n",
        "\n"
      ],
      "metadata": {
        "id": "YkPg52V2c-B8"
      }
    },
    {
      "cell_type": "code",
      "source": [
        "class Product:\n",
        "    def __init__(self, name, price, quantity):\n",
        "        self.name = name\n",
        "        self.price = price\n",
        "        self.quantity = quantity\n",
        "\n",
        "    def total_price(self):\n",
        "        return self.price * self.quantity\n",
        "\n",
        "\n",
        "p1 = Product(\"Laptop\", 45000, 2)\n",
        "print(f\"Total price for {p1.name} is ₹{p1.total_price()}\")\n"
      ],
      "metadata": {
        "colab": {
          "base_uri": "https://localhost:8080/"
        },
        "id": "1EdESyfyc8r4",
        "outputId": "dcc846f9-c9cc-445a-9111-6e4a3a58c253"
      },
      "execution_count": 120,
      "outputs": [
        {
          "output_type": "stream",
          "name": "stdout",
          "text": [
            "Total price for Laptop is ₹90000\n"
          ]
        }
      ]
    },
    {
      "cell_type": "markdown",
      "source": [
        "16. Create a class Animal with an abstract method sound(). Create two derived classes Cow and Sheep that\n",
        "implement the sound() method."
      ],
      "metadata": {
        "id": "90lf9MEcdFb0"
      }
    },
    {
      "cell_type": "code",
      "source": [
        "import abc"
      ],
      "metadata": {
        "id": "jU6aKsAYdE31"
      },
      "execution_count": 121,
      "outputs": []
    },
    {
      "cell_type": "code",
      "source": [
        "from abc import ABC, abstractmethod\n",
        "\n",
        "class Animal(ABC):\n",
        "    @abstractmethod\n",
        "    def sound(self):\n",
        "        pass\n",
        "\n",
        "class Cow(Animal):\n",
        "    def sound(self):\n",
        "        print(\"Cow says Moo!\")\n",
        "\n",
        "class Sheep(Animal):\n",
        "    def sound(self):\n",
        "        print(\"Sheep says Baa!\")"
      ],
      "metadata": {
        "colab": {
          "base_uri": "https://localhost:8080/"
        },
        "id": "sI1prvQcaouO",
        "outputId": "c3683151-a4c4-4777-ef7a-3c838e828271"
      },
      "execution_count": 122,
      "outputs": [
        {
          "output_type": "stream",
          "name": "stdout",
          "text": [
            "Cow says Moo!\n",
            "Sheep says Baa!\n"
          ]
        }
      ]
    },
    {
      "cell_type": "code",
      "source": [
        "c = Cow()\n",
        "c.sound()"
      ],
      "metadata": {
        "colab": {
          "base_uri": "https://localhost:8080/"
        },
        "id": "X2R9YE8zdmzK",
        "outputId": "b39dd0ed-e577-4cd2-9dcb-4f92b475e840"
      },
      "execution_count": 123,
      "outputs": [
        {
          "output_type": "stream",
          "name": "stdout",
          "text": [
            "Cow says Moo!\n"
          ]
        }
      ]
    },
    {
      "cell_type": "code",
      "source": [
        "s = Sheep()\n",
        "s.sound()"
      ],
      "metadata": {
        "colab": {
          "base_uri": "https://localhost:8080/"
        },
        "id": "SVCK6k29dqAw",
        "outputId": "4381de85-5780-4f5c-a9d5-b7f65594e035"
      },
      "execution_count": 124,
      "outputs": [
        {
          "output_type": "stream",
          "name": "stdout",
          "text": [
            "Sheep says Baa!\n"
          ]
        }
      ]
    },
    {
      "cell_type": "markdown",
      "source": [
        "17. Create a class Book with attributes title, author, and year_published. Add a method get_book_info() that\n",
        "returns a formatted string with the book's details."
      ],
      "metadata": {
        "id": "8m1WQPE3d2RL"
      }
    },
    {
      "cell_type": "code",
      "source": [
        "class Book:\n",
        "    def __init__(self, title, author, year_published):\n",
        "        self.title = title\n",
        "        self.author = author\n",
        "        self.year_published = year_published\n",
        "\n",
        "    def get_book_info(self):\n",
        "        return f\"'{self.title}' by {self.author} (Published in {self.year_published})\"\n",
        "\n",
        "\n",
        "book1 = Book(\"The Alchemist\", \"Paulo Coelho\", 1988)\n",
        "print(book1.get_book_info())\n"
      ],
      "metadata": {
        "colab": {
          "base_uri": "https://localhost:8080/"
        },
        "id": "C-bAYoLddtMu",
        "outputId": "207b4829-6633-47f1-bc32-d6115b934eb4"
      },
      "execution_count": 126,
      "outputs": [
        {
          "output_type": "stream",
          "name": "stdout",
          "text": [
            "'The Alchemist' by Paulo Coelho (Published in 1988)\n"
          ]
        }
      ]
    },
    {
      "cell_type": "markdown",
      "source": [
        "18. Create a class House with attributes address and price. Create a derived class Mansion that adds an\n",
        "attribute number_of_rooms."
      ],
      "metadata": {
        "id": "pvbpy2g1eoD0"
      }
    },
    {
      "cell_type": "code",
      "source": [
        "class House:\n",
        "    def __init__(self, address, price):\n",
        "        self.address = address\n",
        "        self.price = price\n",
        "\n",
        "    def get_info(self):\n",
        "        return f\"Address: {self.address}, Price: ₹{self.price}\"\n",
        "\n",
        "class Mansion(House):\n",
        "    def __init__(self, address, price, number_of_rooms):\n",
        "        super().__init__(address, price)  # Parent class ka init call\n",
        "        self.number_of_rooms = number_of_rooms\n",
        "\n",
        "    def get_info(self):\n",
        "        base_info = super().get_info()\n",
        "        return f\"{base_info}, Rooms: {self.number_of_rooms}\"\n",
        "\n",
        "\n",
        "m1 = Mansion(\"Delhi, India\", 75000000, 12)\n",
        "print(m1.get_info())\n"
      ],
      "metadata": {
        "colab": {
          "base_uri": "https://localhost:8080/"
        },
        "id": "JVWDlG70enyy",
        "outputId": "93a4e5ca-e2d2-4b5b-e2ad-e5f8f8a959b3"
      },
      "execution_count": 127,
      "outputs": [
        {
          "output_type": "stream",
          "name": "stdout",
          "text": [
            "Address: Delhi, India, Price: ₹75000000, Rooms: 12\n"
          ]
        }
      ]
    },
    {
      "cell_type": "code",
      "source": [],
      "metadata": {
        "id": "Ce9i1hJDeh2b"
      },
      "execution_count": null,
      "outputs": []
    }
  ]
}