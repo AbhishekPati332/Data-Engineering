{
  "nbformat": 4,
  "nbformat_minor": 0,
  "metadata": {
    "colab": {
      "provenance": [],
      "authorship_tag": "ABX9TyNLLWJbh/fu9vZlu9R4hMjz",
      "include_colab_link": true
    },
    "kernelspec": {
      "name": "python3",
      "display_name": "Python 3"
    },
    "language_info": {
      "name": "python"
    }
  },
  "cells": [
    {
      "cell_type": "markdown",
      "metadata": {
        "id": "view-in-github",
        "colab_type": "text"
      },
      "source": [
        "<a href=\"https://colab.research.google.com/github/AbhishekPati332/Data-Engineering/blob/main/Module4_Assignment2.ipynb\" target=\"_parent\"><img src=\"https://colab.research.google.com/assets/colab-badge.svg\" alt=\"Open In Colab\"/></a>"
      ]
    },
    {
      "cell_type": "code",
      "source": [
        "#Q1 What are data structures, and why are they important?\n",
        "Data Structure is the way of organsing and storing data so that it can be accessed and manipulated effectienly.\n",
        "Ex:- list,string,dict,Tuple\n",
        "Important because:-\n",
        "1.They help in storing data effeciently\n",
        "2.Make it easier to search,sort,insert and delete data.\n",
        "3.They improve the speed and performance of the program\n",
        "4.Help solve real world problems like managing user data,files,apps,etc."
      ],
      "metadata": {
        "id": "gNXsfF_7tIXR"
      },
      "execution_count": null,
      "outputs": []
    },
    {
      "cell_type": "code",
      "source": [
        "#Q2  Explain the difference between mutable and immutable data types with examples."
      ],
      "metadata": {
        "id": "VA15-oyktKHj"
      },
      "execution_count": null,
      "outputs": []
    },
    {
      "cell_type": "code",
      "source": [
        "Mutable data type such as List,dict,Set in which the value can be modify after being created.\n",
        "While Immutable data type like Tuple in this we can't modify the value after being created."
      ],
      "metadata": {
        "id": "9k28kLj9tKjk"
      },
      "execution_count": null,
      "outputs": []
    },
    {
      "cell_type": "code",
      "source": [
        "#Q3 What are the main differences between lists and tuples in Python."
      ],
      "metadata": {
        "id": "b3zuNvF1tK-K"
      },
      "execution_count": null,
      "outputs": []
    },
    {
      "cell_type": "code",
      "source": [
        "List is Mutable while Tuples are immutable.\n",
        "List syntax is [] while Tuple ().\n",
        "List are slower compare to tuple for iteration because it is mutable.\n",
        "Tuples use less Memory then List.Tuple is Memory effecient.\n",
        "Hashability:- Tuple can be used as Dict key but list can not.\n",
        "List have more build in methods than tuple."
      ],
      "metadata": {
        "id": "rQLJ35aAtLVM"
      },
      "execution_count": null,
      "outputs": []
    },
    {
      "cell_type": "code",
      "source": [
        "#Q4  Describe how dictionaries store data?"
      ],
      "metadata": {
        "id": "ZO5WeuhktLrG"
      },
      "execution_count": null,
      "outputs": []
    },
    {
      "cell_type": "code",
      "source": [
        "Dict store data in form of keys and values.\n",
        "Ex:- dict = {\n",
        "    \"name\" : \"abhishek\"\n",
        "    \"age\" : 21\n",
        "}\n",
        "Where we can fetch both keys and values as per requirement. Here name is the key\n",
        "and abhishek is value.\n",
        "\n",
        "Internally, Python uses a hash table. when we create a key, python turn into a number(called a hash)\n",
        "Then this number decides where the value is stored in memory.\n"
      ],
      "metadata": {
        "id": "6GoXaWuhtL7p"
      },
      "execution_count": null,
      "outputs": []
    },
    {
      "cell_type": "markdown",
      "source": [],
      "metadata": {
        "id": "WO0mNi6EtMB2"
      }
    },
    {
      "cell_type": "code",
      "source": [
        "#Q5 Why might you use a set instead of a list in Python?"
      ],
      "metadata": {
        "id": "eP4gbdlAtMYM"
      },
      "execution_count": null,
      "outputs": []
    },
    {
      "cell_type": "code",
      "source": [
        "Set Removes the Duplicacies.\n",
        "Searching in set is faster than in a list.\n",
        "Set supports operation like union, intersection, difference.\n",
        "\n"
      ],
      "metadata": {
        "id": "rrGG0DP4tNav"
      },
      "execution_count": null,
      "outputs": []
    },
    {
      "cell_type": "code",
      "source": [
        "#Q6 What is a string in Python, and how is it different from a list?"
      ],
      "metadata": {
        "id": "Lho8HUbptN06"
      },
      "execution_count": null,
      "outputs": []
    },
    {
      "cell_type": "code",
      "source": [
        "A string in Python is a sequence of characters, like letters, numbers or symbols.\n",
        "enclosed in quotes either single or double.\n",
        "\n",
        "Difference:-\n",
        "1.String is Immutable while list is mutable.\n",
        "2.String stores elements of characters while list store all data type."
      ],
      "metadata": {
        "id": "XDPXWetUtOpW"
      },
      "execution_count": null,
      "outputs": []
    },
    {
      "cell_type": "code",
      "source": [
        "#Q7 How do tuples ensure data integrity in Python?"
      ],
      "metadata": {
        "id": "oomXK2k5zrOa"
      },
      "execution_count": null,
      "outputs": []
    },
    {
      "cell_type": "code",
      "source": [
        "Tuples Are Immutable Once a tuple is created, we cannot change its values.\n",
        "This prevents accidental changes, which helps protect the data."
      ],
      "metadata": {
        "id": "W1X-BS2Izr0T"
      },
      "execution_count": null,
      "outputs": []
    },
    {
      "cell_type": "code",
      "source": [
        "#Q8  What is a hash table, and how does it relate to dictionaries in Python?"
      ],
      "metadata": {
        "id": "JqcFq0l8zsNy"
      },
      "execution_count": null,
      "outputs": []
    },
    {
      "cell_type": "code",
      "source": [
        "A hash table in data structure that stores data in key value pairs, using a hash\n",
        "function to determine where to store each value.\n",
        "A key like 'name' is passed through a hash function then hash function converts it into an index like box number.\n",
        "Then The value is stored a that index.\n",
        "\n",
        "Python's dict is implemented using a hash table internally like when we write my_dict[\"name\"], python uses a hash\n",
        "function to quickly find the value.\n"
      ],
      "metadata": {
        "id": "nALrsku6zsm2"
      },
      "execution_count": null,
      "outputs": []
    },
    {
      "cell_type": "code",
      "source": [
        "#Q9 Can lists contain different data types in Python3"
      ],
      "metadata": {
        "id": "QmAYQGKezs_R"
      },
      "execution_count": null,
      "outputs": []
    },
    {
      "cell_type": "code",
      "source": [
        "#Yes, List can contain any data type.\n",
        "list = [1, 1.23, 'abhi' , 3+4j]\n",
        "print(list)"
      ],
      "metadata": {
        "colab": {
          "base_uri": "https://localhost:8080/"
        },
        "id": "zDc3g7V031XV",
        "outputId": "0bac8ea4-e6fb-4d40-e028-95e0af143d15"
      },
      "execution_count": null,
      "outputs": [
        {
          "output_type": "stream",
          "name": "stdout",
          "text": [
            "[1, 1.23, 'abhi', (3+4j)]\n"
          ]
        }
      ]
    },
    {
      "cell_type": "code",
      "source": [
        "#Q10 Explain why strings are immutable in Python"
      ],
      "metadata": {
        "id": "2lWmImE731zI"
      },
      "execution_count": null,
      "outputs": []
    },
    {
      "cell_type": "code",
      "source": [
        "1. Strings are mutable which makes Data secure and Data Integrity.\n",
        "2. Faster and Memory Efficient as they are mutable.So, good in performance\n",
        "3. Safe to use in hashing because only immutable objects can be used as key in dict.\n",
        "4. Because strings are immutable, Python can reuse them in memory, which saves space and makes the program run faster."
      ],
      "metadata": {
        "id": "zrs4bxYo32Ql"
      },
      "execution_count": null,
      "outputs": []
    },
    {
      "cell_type": "code",
      "source": [
        "#Q11 What advantages do dictionaries offer over lists for certain tasks."
      ],
      "metadata": {
        "id": "4p4FUtrNQvGo"
      },
      "execution_count": null,
      "outputs": []
    },
    {
      "cell_type": "code",
      "source": [
        "Dict gives fast access to data using keys , list needs to search through index which is slower.\n",
        "In Dict data is easier to understand as it is in form of key-value pair.\n",
        "In Dict No need to rember the indexes.\n",
        "Dict Avoids Duplicate Keys , data is unique and organised.\n"
      ],
      "metadata": {
        "id": "ivcuQco7S-NW"
      },
      "execution_count": null,
      "outputs": []
    },
    {
      "cell_type": "code",
      "source": [
        "#Q12 Describe a scenario where using a tuple would be preferable over a listP"
      ],
      "metadata": {
        "id": "FJ7wM913S-lm"
      },
      "execution_count": null,
      "outputs": []
    },
    {
      "cell_type": "code",
      "source": [
        "Scenario when the data should not be changed and modify like coordinates, configuration or for example days of the week then\n",
        "there i will prefer tuple over list to ensure data integrity and better performance as\n",
        "tuples are faster then list.\n",
        "Ex:- days = (\"Mon\", \"Tue\", \"Wed\", \"Thu\", \"Fri\", \"Sat\", \"Sun\")\n",
        "this can't be change so here i will use tuple instead of list.\n"
      ],
      "metadata": {
        "id": "UKU6uSMPS-8f"
      },
      "execution_count": null,
      "outputs": []
    },
    {
      "cell_type": "code",
      "source": [
        "#Q13 How do sets handle duplicate values in Python?"
      ],
      "metadata": {
        "id": "jONzCeoeS_sZ"
      },
      "execution_count": null,
      "outputs": []
    },
    {
      "cell_type": "code",
      "source": [
        "sets automatically eliminate duplicate values and only store unique items. This makes them useful\n",
        "for tasks like removing duplicates from a list or checking for membership quickly."
      ],
      "metadata": {
        "id": "vGEaPXnNUo8x"
      },
      "execution_count": null,
      "outputs": []
    },
    {
      "cell_type": "code",
      "source": [
        "#Q14 How does the “in” keyword work differently for lists and dictionaries3"
      ],
      "metadata": {
        "id": "7t1nmv0sUpiG"
      },
      "execution_count": null,
      "outputs": []
    },
    {
      "cell_type": "code",
      "source": [
        "In list 'in' checks if a value exists in the list and returns boolean value.\n",
        "Ex:-\n",
        "person = {'name': 'Abhi', 'age': 21}\n",
        "print('name' in person)     #True\n",
        "print('Abhi' in person)     # False\n",
        "\n",
        "And in dict it checks if a key exists(not the value)\n",
        "Ex:-\n",
        "person = {'name': 'Abhi', 'age': 21}\n",
        "print('Abhi' in person.values())    #True\n",
        "print('name' in person)   #True\n"
      ],
      "metadata": {
        "id": "eoq-lI2gUp-a"
      },
      "execution_count": null,
      "outputs": []
    },
    {
      "cell_type": "code",
      "source": [
        "#Q15 Can you modify the elements of a tuple? Explain why or why not?"
      ],
      "metadata": {
        "id": "5gxMV873Wafb"
      },
      "execution_count": null,
      "outputs": []
    },
    {
      "cell_type": "code",
      "source": [
        "Tuple are immutable so we cannot modify the elements.\n",
        "Because This insures data integrity, makes themm safe to use as dictionary keys,\n",
        "and improves performance compared to other data structure."
      ],
      "metadata": {
        "id": "a7730lhcWknE"
      },
      "execution_count": null,
      "outputs": []
    },
    {
      "cell_type": "code",
      "source": [
        "#Q16 What is a nested dictionary, and give an example of its use case?"
      ],
      "metadata": {
        "id": "BTEsQwhvWk-5"
      },
      "execution_count": null,
      "outputs": []
    },
    {
      "cell_type": "code",
      "source": [
        "A nested dictionary is a dict inside another dict.It allows storing structured or hierarchial data.\n",
        "Ex:-\n",
        "students = {\n",
        "    \"101\": {\"name\": \"Abhi\", \"age\": 20},\n",
        "    \"102\": {\"name\": \"Riya\", \"age\": 21}\n",
        "}\n",
        "Outer keys: student IDs (\"101\",\"102\")\n",
        "Inner dictionaries: details of each student\n",
        "\n",
        "employees = {\n",
        "    \"emp1\": {\"name\": \"John\", \"dept\": \"HR\"},\n",
        "    \"emp2\": {\"name\": \"Sara\", \"dept\": \"Tech\"}\n",
        "}\n",
        "A nested dictionary is used to store structured data where each key maps to another dictionary.\n",
        "For example, it's useful for storing information like students' details or employees records in a clean and organized way.\"\n"
      ],
      "metadata": {
        "id": "pU5P5xk2XaBy"
      },
      "execution_count": null,
      "outputs": []
    },
    {
      "cell_type": "code",
      "source": [
        "#Q17 Describe the time complexity of accessing elements in a dictionary."
      ],
      "metadata": {
        "id": "uefnXtbCXa6G"
      },
      "execution_count": null,
      "outputs": []
    },
    {
      "cell_type": "code",
      "source": [
        "Accessing elements in a dictionary is O(1) on average because it uses a hash table internally.\n",
        "Even in worst-case hash collisions, Python manages it well, so access remains very efficient."
      ],
      "metadata": {
        "id": "gLctEeTXXbc-"
      },
      "execution_count": null,
      "outputs": []
    },
    {
      "cell_type": "code",
      "source": [
        "#Q18 In what situations are lists preferred over dictionaries?"
      ],
      "metadata": {
        "id": "TQl78QkGZ9xi"
      },
      "execution_count": null,
      "outputs": []
    },
    {
      "cell_type": "code",
      "source": [
        "1.When order matters list maintain insertion order.\n",
        "Ex :- to-do list, history logs, sequences\n",
        "2.When we don't need key value pairs\n",
        "3.When we want indexed access\n",
        "4.When the data is homogenous like all stings all integers etc.\n",
        "5.When we need to perform ordered operations\n",
        "Sorting, slicing, looping in order etc."
      ],
      "metadata": {
        "id": "yd7CX0YeZ-ZX"
      },
      "execution_count": null,
      "outputs": []
    },
    {
      "cell_type": "code",
      "source": [
        "#Q19 Why are dictionaries considered unordered, and how does that affect data retrieval"
      ],
      "metadata": {
        "id": "bDo2kxevZ-v-"
      },
      "execution_count": null,
      "outputs": []
    },
    {
      "cell_type": "code",
      "source": [
        "Dictionaries are considered unordered because traditionally they didn’t guarantee key order.\n",
        "Even though Python 3.7+ preserves insertion order, dictionaries are still accessed using keys, not positions.\n",
        "so we can't rely on their order like we do with lists."
      ],
      "metadata": {
        "id": "SEUxNyuycFSx"
      },
      "execution_count": null,
      "outputs": []
    },
    {
      "cell_type": "code",
      "source": [
        "#Q20 Explain the difference between a list and a dictionary in terms of data retrieval."
      ],
      "metadata": {
        "id": "zH-kUBh7cFp1"
      },
      "execution_count": null,
      "outputs": []
    },
    {
      "cell_type": "code",
      "source": [
        "A list retrieves data using an index, like list[2], which is useful when order matters.\n",
        "A dictionary retrieves data using a key, like dict['name'], making it ideal\n",
        "for structured data where each value has a unique label."
      ],
      "metadata": {
        "id": "vvX82gq9ciBf"
      },
      "execution_count": null,
      "outputs": []
    },
    {
      "cell_type": "markdown",
      "source": [
        "#Section 2\n"
      ],
      "metadata": {
        "id": "wMeSXlo_c8Is"
      }
    },
    {
      "cell_type": "markdown",
      "source": [
        "PRACTICAL QUESTIONS\n"
      ],
      "metadata": {
        "id": "ZrSSF-iAZ-2m"
      }
    },
    {
      "cell_type": "code",
      "execution_count": null,
      "metadata": {
        "colab": {
          "base_uri": "https://localhost:8080/"
        },
        "id": "Fntar0efjNf6",
        "outputId": "26e28fb1-88f8-4647-f620-9896c51cd7ce"
      },
      "outputs": [
        {
          "output_type": "stream",
          "name": "stdout",
          "text": [
            "Abhishek Patidar\n"
          ]
        }
      ],
      "source": [
        "#QUE 1 :-\n",
        "name = \"Abhishek Patidar\"\n",
        "print(name)"
      ]
    },
    {
      "cell_type": "code",
      "source": [
        "#QUE 2:-\n",
        "string = \"Hello World\"\n",
        "len(string)"
      ],
      "metadata": {
        "colab": {
          "base_uri": "https://localhost:8080/"
        },
        "id": "jeVKA-n_kcvj",
        "outputId": "590453e9-c3bf-4103-a430-1da80aa1e1d0"
      },
      "execution_count": null,
      "outputs": [
        {
          "output_type": "execute_result",
          "data": {
            "text/plain": [
              "11"
            ]
          },
          "metadata": {},
          "execution_count": 5
        }
      ]
    },
    {
      "cell_type": "code",
      "source": [
        "#QUE 3:-\n",
        "given = \"Python Programming\"\n",
        "given[0:3]\n"
      ],
      "metadata": {
        "colab": {
          "base_uri": "https://localhost:8080/",
          "height": 35
        },
        "id": "x1VK91DEkwpI",
        "outputId": "86abe904-e7b8-4023-c2d5-f130e1d2da0a"
      },
      "execution_count": null,
      "outputs": [
        {
          "output_type": "execute_result",
          "data": {
            "text/plain": [
              "'Pyt'"
            ],
            "application/vnd.google.colaboratory.intrinsic+json": {
              "type": "string"
            }
          },
          "metadata": {},
          "execution_count": 13
        }
      ]
    },
    {
      "cell_type": "code",
      "source": [
        "#QUE 4:-\n",
        "say = \"hello\"\n",
        "say.upper()"
      ],
      "metadata": {
        "colab": {
          "base_uri": "https://localhost:8080/",
          "height": 35
        },
        "id": "Jai3WC-YlHan",
        "outputId": "be5ca447-cddd-465a-9792-b954f537db0e"
      },
      "execution_count": null,
      "outputs": [
        {
          "output_type": "execute_result",
          "data": {
            "text/plain": [
              "'HELLO'"
            ],
            "application/vnd.google.colaboratory.intrinsic+json": {
              "type": "string"
            }
          },
          "metadata": {},
          "execution_count": 14
        }
      ]
    },
    {
      "cell_type": "code",
      "source": [
        "#QUE 5:-\n",
        "given = \"I like apple\"\n",
        "given.replace(\"apple\",\"orange\")"
      ],
      "metadata": {
        "colab": {
          "base_uri": "https://localhost:8080/",
          "height": 35
        },
        "id": "CyP1SZdfl7UT",
        "outputId": "17fb3a20-e247-4de1-d312-ea201e4625cb"
      },
      "execution_count": null,
      "outputs": [
        {
          "output_type": "execute_result",
          "data": {
            "text/plain": [
              "'I like orange'"
            ],
            "application/vnd.google.colaboratory.intrinsic+json": {
              "type": "string"
            }
          },
          "metadata": {},
          "execution_count": 15
        }
      ]
    },
    {
      "cell_type": "code",
      "source": [
        "#QUE 6:-Write a code to create a list with numbers 1 to 5 and print it.\n",
        "list = [1, 2, 3, 4, 5]\n",
        "print(list)\n"
      ],
      "metadata": {
        "colab": {
          "base_uri": "https://localhost:8080/"
        },
        "id": "G0bGpzuxmmHK",
        "outputId": "c4834b67-9589-49e3-daeb-51b11106c6b3"
      },
      "execution_count": null,
      "outputs": [
        {
          "output_type": "stream",
          "name": "stdout",
          "text": [
            "[1, 2, 3, 4, 5]\n"
          ]
        }
      ]
    },
    {
      "cell_type": "code",
      "source": [
        "#QUE 7:- Write a code to append the number 10 to the list [1, 2, 3, 4]\n",
        "list = [1, 2, 3, 4]\n",
        "list.append(10)\n",
        "print(list)"
      ],
      "metadata": {
        "colab": {
          "base_uri": "https://localhost:8080/"
        },
        "id": "MKF2ql59nIvr",
        "outputId": "7e4a597e-420e-4bb0-a338-576f5d09d8fe"
      },
      "execution_count": null,
      "outputs": [
        {
          "output_type": "stream",
          "name": "stdout",
          "text": [
            "[1, 2, 3, 4, 10]\n"
          ]
        }
      ]
    },
    {
      "cell_type": "code",
      "source": [
        "#QUE 8 :- Write a code to remove the number 3 from the list [1, 2, 3, 4, 5]\n",
        "list = [1, 2, 3, 4, 5]\n",
        "list.remove(3)\n",
        "print(list)\n"
      ],
      "metadata": {
        "colab": {
          "base_uri": "https://localhost:8080/"
        },
        "id": "bP5QiRoynh3I",
        "outputId": "ddf66e46-8b25-4ec9-c54b-0039fc088d90"
      },
      "execution_count": null,
      "outputs": [
        {
          "output_type": "stream",
          "name": "stdout",
          "text": [
            "[1, 2, 4, 5]\n"
          ]
        }
      ]
    },
    {
      "cell_type": "code",
      "source": [
        "#QUE 9 :- Write a code to access the second element in the list ['a', 'b', 'c', 'd']\n",
        "list = ['a' , 'b' , 'c' , 'd']\n",
        "list[1]"
      ],
      "metadata": {
        "colab": {
          "base_uri": "https://localhost:8080/",
          "height": 35
        },
        "id": "Ni3GVofZn5LE",
        "outputId": "f563535a-5a16-450e-d336-19d5a4660dea"
      },
      "execution_count": null,
      "outputs": [
        {
          "output_type": "execute_result",
          "data": {
            "text/plain": [
              "'b'"
            ],
            "application/vnd.google.colaboratory.intrinsic+json": {
              "type": "string"
            }
          },
          "metadata": {},
          "execution_count": 22
        }
      ]
    },
    {
      "cell_type": "code",
      "source": [
        "#QUE 10:- Write a code to reverse the list [10, 20, 30, 40, 50]"
      ],
      "metadata": {
        "id": "LRFh7u1UoJxK"
      },
      "execution_count": null,
      "outputs": []
    },
    {
      "cell_type": "code",
      "source": [
        "list = [10,20,30,40,50]\n",
        "list[::-1]"
      ],
      "metadata": {
        "colab": {
          "base_uri": "https://localhost:8080/"
        },
        "id": "w-_S3OizoRAD",
        "outputId": "41ee2d2a-a7f3-468f-fe09-9569fcff12c9"
      },
      "execution_count": null,
      "outputs": [
        {
          "output_type": "execute_result",
          "data": {
            "text/plain": [
              "[50, 40, 30, 20, 10]"
            ]
          },
          "metadata": {},
          "execution_count": 25
        }
      ]
    },
    {
      "cell_type": "code",
      "source": [
        "#QUE 11 :- Write a code to create a tuple with the elements 100, 200, 300 and print it."
      ],
      "metadata": {
        "id": "OkKKJfQNoWJL"
      },
      "execution_count": null,
      "outputs": []
    },
    {
      "cell_type": "code",
      "source": [
        "my_tuple = (100 , 200 , 300)\n",
        "print(my_tuple)"
      ],
      "metadata": {
        "colab": {
          "base_uri": "https://localhost:8080/"
        },
        "id": "2bxHjMLwoiLF",
        "outputId": "c8836647-254a-40ac-d703-33b22f26866d"
      },
      "execution_count": null,
      "outputs": [
        {
          "output_type": "stream",
          "name": "stdout",
          "text": [
            "(100, 200, 300)\n"
          ]
        }
      ]
    },
    {
      "cell_type": "code",
      "source": [
        " #QUE 12:- Write a code to access the second-to-last element of the tuple ('red', 'green', 'blue', 'yellow')."
      ],
      "metadata": {
        "id": "YcJR-9BwEXuJ"
      },
      "execution_count": null,
      "outputs": []
    },
    {
      "cell_type": "code",
      "source": [
        "my_tuple = ('red' , 'green' , 'blue' , 'yellow')\n",
        "my_tuple[-2]"
      ],
      "metadata": {
        "colab": {
          "base_uri": "https://localhost:8080/",
          "height": 35
        },
        "id": "Hi3SUTLwFE2L",
        "outputId": "48750363-8426-49b2-e414-beda4b066c90"
      },
      "execution_count": null,
      "outputs": [
        {
          "output_type": "execute_result",
          "data": {
            "text/plain": [
              "'blue'"
            ],
            "application/vnd.google.colaboratory.intrinsic+json": {
              "type": "string"
            }
          },
          "metadata": {},
          "execution_count": 4
        }
      ]
    },
    {
      "cell_type": "code",
      "source": [
        "#13. Write a code to find the minimum number in the tuple (10, 20, 5, 15)."
      ],
      "metadata": {
        "id": "Vnnmf0hVFeEq"
      },
      "execution_count": null,
      "outputs": []
    },
    {
      "cell_type": "code",
      "source": [
        "my_tuple = (10, 20, 5, 15)\n",
        "max(my_tuple)"
      ],
      "metadata": {
        "colab": {
          "base_uri": "https://localhost:8080/"
        },
        "id": "P67Oc1VuFipy",
        "outputId": "ff0279cb-b0ae-4767-ea0e-e3ed6b1be57e"
      },
      "execution_count": null,
      "outputs": [
        {
          "output_type": "execute_result",
          "data": {
            "text/plain": [
              "20"
            ]
          },
          "metadata": {},
          "execution_count": 7
        }
      ]
    },
    {
      "cell_type": "code",
      "source": [
        "#14. Write a code to find the index of the element \"cat\" in the tuple ('dog', 'cat', 'rabbit')"
      ],
      "metadata": {
        "id": "z3hi_GhDFp2p"
      },
      "execution_count": null,
      "outputs": []
    },
    {
      "cell_type": "code",
      "source": [
        "my_tuple = ('dog', 'cat' , 'rabbit')\n",
        "my_tuple(cat)"
      ],
      "metadata": {
        "colab": {
          "base_uri": "https://localhost:8080/",
          "height": 158
        },
        "id": "fjl3A1LBFvxH",
        "outputId": "b6ee6f0b-c299-413a-c82b-b5a30be5fb2b"
      },
      "execution_count": null,
      "outputs": [
        {
          "output_type": "error",
          "ename": "NameError",
          "evalue": "name 'cat' is not defined",
          "traceback": [
            "\u001b[0;31m---------------------------------------------------------------------------\u001b[0m",
            "\u001b[0;31mNameError\u001b[0m                                 Traceback (most recent call last)",
            "\u001b[0;32m/tmp/ipython-input-11-132101054.py\u001b[0m in \u001b[0;36m<cell line: 0>\u001b[0;34m()\u001b[0m\n\u001b[1;32m      1\u001b[0m \u001b[0mmy_tuple\u001b[0m \u001b[0;34m=\u001b[0m \u001b[0;34m(\u001b[0m\u001b[0;34m'dog'\u001b[0m\u001b[0;34m,\u001b[0m \u001b[0;34m'cat'\u001b[0m \u001b[0;34m,\u001b[0m \u001b[0;34m'rabbit'\u001b[0m\u001b[0;34m)\u001b[0m\u001b[0;34m\u001b[0m\u001b[0;34m\u001b[0m\u001b[0m\n\u001b[0;32m----> 2\u001b[0;31m \u001b[0mmy_tuple\u001b[0m\u001b[0;34m(\u001b[0m\u001b[0mcat\u001b[0m\u001b[0;34m)\u001b[0m\u001b[0;34m\u001b[0m\u001b[0;34m\u001b[0m\u001b[0m\n\u001b[0m",
            "\u001b[0;31mNameError\u001b[0m: name 'cat' is not defined"
          ]
        }
      ]
    },
    {
      "cell_type": "code",
      "source": [
        "#QUE 15. Write a code to find the index of the element \"cat\" in the tuple ('dog', 'cat', 'rabbit')."
      ],
      "metadata": {
        "id": "M7x7ve-dF3_5"
      },
      "execution_count": null,
      "outputs": []
    },
    {
      "cell_type": "code",
      "source": [
        "animals = ('dog' , 'cat' , 'rabbit')\n",
        "index = animals.index('cat')\n",
        "print(index)"
      ],
      "metadata": {
        "colab": {
          "base_uri": "https://localhost:8080/"
        },
        "id": "1qq8PggX2gPG",
        "outputId": "c7844152-fcb4-4b0a-f6f7-4af04f0ef9a9"
      },
      "execution_count": null,
      "outputs": [
        {
          "output_type": "stream",
          "name": "stdout",
          "text": [
            "1\n"
          ]
        }
      ]
    },
    {
      "cell_type": "code",
      "source": [
        "#QUE16. Write a code to create a set with the elements 'a', 'b', 'c' and print it."
      ],
      "metadata": {
        "id": "A1IsWajd2uqv"
      },
      "execution_count": null,
      "outputs": []
    },
    {
      "cell_type": "code",
      "source": [
        "set = {\"a\",\"b\",\"c\"}\n",
        "set"
      ],
      "metadata": {
        "colab": {
          "base_uri": "https://localhost:8080/"
        },
        "id": "Isec1qNo23l6",
        "outputId": "aff70e70-b23e-4336-d96b-8ff840f63724"
      },
      "execution_count": null,
      "outputs": [
        {
          "output_type": "execute_result",
          "data": {
            "text/plain": [
              "{'a', 'b', 'c'}"
            ]
          },
          "metadata": {},
          "execution_count": 5
        }
      ]
    },
    {
      "cell_type": "code",
      "source": [
        "#QUE17 Write a code to clear all elements from the set {1, 2, 3, 4, 5}."
      ],
      "metadata": {
        "id": "XuXN80UC3wMB"
      },
      "execution_count": null,
      "outputs": []
    },
    {
      "cell_type": "code",
      "source": [
        "set = {1,2,3,4,5}\n",
        "set.clear()\n",
        "set"
      ],
      "metadata": {
        "colab": {
          "base_uri": "https://localhost:8080/"
        },
        "id": "X3jhBHUF34Q_",
        "outputId": "07df868d-59b9-40a2-ac21-17997eabcf97"
      },
      "execution_count": null,
      "outputs": [
        {
          "output_type": "execute_result",
          "data": {
            "text/plain": [
              "set()"
            ]
          },
          "metadata": {},
          "execution_count": 9
        }
      ]
    },
    {
      "cell_type": "code",
      "source": [
        "#QUE18. Write a code to remove the element 4 from the set {1, 2, 3, 4}."
      ],
      "metadata": {
        "id": "p7TdD1Rr4CFN"
      },
      "execution_count": null,
      "outputs": []
    },
    {
      "cell_type": "code",
      "source": [
        "set = {1,2,3,4}\n",
        "set.remove(4)\n",
        "set"
      ],
      "metadata": {
        "colab": {
          "base_uri": "https://localhost:8080/"
        },
        "id": "oG61miQL4Oln",
        "outputId": "5e987d47-e342-40a9-90b3-b0e914606d68"
      },
      "execution_count": null,
      "outputs": [
        {
          "output_type": "execute_result",
          "data": {
            "text/plain": [
              "{1, 2, 3}"
            ]
          },
          "metadata": {},
          "execution_count": 13
        }
      ]
    },
    {
      "cell_type": "code",
      "source": [
        "#19. Write a code to find the union of two sets {1, 2, 3} and {3, 4, 5}."
      ],
      "metadata": {
        "id": "uGTAU0Jw4Xa5"
      },
      "execution_count": null,
      "outputs": []
    },
    {
      "cell_type": "code",
      "source": [
        "u1 = {1, 2, 3}\n",
        "u2 = {3, 4, 5}\n",
        "print(u1 | u2)"
      ],
      "metadata": {
        "colab": {
          "base_uri": "https://localhost:8080/"
        },
        "id": "PowP5r_I7V1i",
        "outputId": "da5a836b-6d27-427c-ef4b-9df4690ac1e6"
      },
      "execution_count": null,
      "outputs": [
        {
          "output_type": "stream",
          "name": "stdout",
          "text": [
            "{1, 2, 3, 4, 5}\n"
          ]
        }
      ]
    },
    {
      "cell_type": "code",
      "source": [
        "u1 = {1, 2, 3}\n",
        "u2 = {3, 4, 5}\n",
        "union_set = u1.union(u2)\n",
        "print(union_set)"
      ],
      "metadata": {
        "colab": {
          "base_uri": "https://localhost:8080/"
        },
        "id": "PmunCWbp7gjs",
        "outputId": "b42ccf82-ccfe-4371-b174-602c15748e4c"
      },
      "execution_count": null,
      "outputs": [
        {
          "output_type": "stream",
          "name": "stdout",
          "text": [
            "{1, 2, 3, 4, 5}\n"
          ]
        }
      ]
    },
    {
      "cell_type": "code",
      "source": [],
      "metadata": {
        "id": "ETBzaZGp77D7"
      },
      "execution_count": null,
      "outputs": []
    },
    {
      "cell_type": "code",
      "source": [
        "#20. Write a code to find the intersection of two sets {1, 2, 3} and {2, 3, 4}."
      ],
      "metadata": {
        "id": "Zi5np87c8EMV"
      },
      "execution_count": null,
      "outputs": []
    },
    {
      "cell_type": "code",
      "source": [
        "u1 = {1, 2, 3}\n",
        "u2 = {3, 4, 5}\n",
        "print(u1&u2)"
      ],
      "metadata": {
        "colab": {
          "base_uri": "https://localhost:8080/"
        },
        "id": "EzH1ts518K98",
        "outputId": "b6a38007-3b93-43c1-b9cc-4df6fa251c7a"
      },
      "execution_count": null,
      "outputs": [
        {
          "output_type": "stream",
          "name": "stdout",
          "text": [
            "{3}\n"
          ]
        }
      ]
    },
    {
      "cell_type": "code",
      "source": [
        "u1 = {1, 2, 3}\n",
        "u2 = {3, 4, 5}\n",
        "intersection_set = u1.intersection(u2)\n",
        "print(intersection_set)"
      ],
      "metadata": {
        "colab": {
          "base_uri": "https://localhost:8080/"
        },
        "id": "GgtFHlvz8SLQ",
        "outputId": "332d5465-ab73-46c4-9b47-0c02cf972ac6"
      },
      "execution_count": null,
      "outputs": [
        {
          "output_type": "stream",
          "name": "stdout",
          "text": [
            "{3}\n"
          ]
        }
      ]
    },
    {
      "cell_type": "code",
      "source": [
        "#21. Write a code to create a dictionary with the keys \"name\", \"age\", and \"city\", and print it."
      ],
      "metadata": {
        "id": "5GwsNgfs8ZR6"
      },
      "execution_count": null,
      "outputs": []
    },
    {
      "cell_type": "code",
      "source": [
        "dict = {\n",
        "    \"name\" : \"Abhishek\",\n",
        "    \"age\" : 21,\n",
        "    \"city\" : \"Neemuch\",\n",
        "}\n",
        "print(dict)"
      ],
      "metadata": {
        "colab": {
          "base_uri": "https://localhost:8080/"
        },
        "id": "iUK6kphu87cY",
        "outputId": "76f3510d-bdf2-406f-9780-95044f863341"
      },
      "execution_count": null,
      "outputs": [
        {
          "output_type": "stream",
          "name": "stdout",
          "text": [
            "{'name': 'Abhishek', 'age': 21, 'city': 'Neemuch'}\n"
          ]
        }
      ]
    },
    {
      "cell_type": "code",
      "source": [
        "#22. Write a code to add a new key-value pair \"country\": \"USA\" to the dictionary {'name': 'John', 'age': 25}"
      ],
      "metadata": {
        "id": "z7z-VKZ29JbC"
      },
      "execution_count": null,
      "outputs": []
    },
    {
      "cell_type": "code",
      "source": [
        "dict = {\n",
        "    'name':'John',\n",
        "    'age':25,\n",
        "}\n",
        "\n",
        "dict['country'] = 'USA'\n",
        "print(dict)"
      ],
      "metadata": {
        "colab": {
          "base_uri": "https://localhost:8080/"
        },
        "id": "70jqnbc79dO7",
        "outputId": "e962f49d-52c1-4af6-9afa-889c697c5132"
      },
      "execution_count": null,
      "outputs": [
        {
          "output_type": "stream",
          "name": "stdout",
          "text": [
            "{'name': 'John', 'age': 25, 'country': 'USA'}\n"
          ]
        }
      ]
    },
    {
      "cell_type": "code",
      "source": [
        "#23 Write a code to access the value associated with the key \"name\" in the dictionary {'name': 'Alice', 'age': 30}."
      ],
      "metadata": {
        "id": "Y4PM7rSy93pn"
      },
      "execution_count": null,
      "outputs": []
    },
    {
      "cell_type": "code",
      "source": [
        "person = {'name': 'Alice', 'age': 30}\n",
        "print(person['name'])"
      ],
      "metadata": {
        "id": "vWpsK3Dl-a3i",
        "colab": {
          "base_uri": "https://localhost:8080/"
        },
        "outputId": "ccc1e274-6325-4d61-c21b-a69815d802d9"
      },
      "execution_count": null,
      "outputs": [
        {
          "output_type": "stream",
          "name": "stdout",
          "text": [
            "Alice\n"
          ]
        }
      ]
    },
    {
      "cell_type": "code",
      "source": [
        "#24  Write a code to remove the key \"age\" from the dictionary {'name': 'Bob', 'age': 22, 'city': 'New York'}."
      ],
      "metadata": {
        "id": "L39VZcqglWcs"
      },
      "execution_count": null,
      "outputs": []
    },
    {
      "cell_type": "code",
      "source": [
        "Details = {\n",
        "    'name':'Bob','age':22,'city':'New York'\n",
        "}\n",
        "Details.pop('age')\n",
        "print(Details)"
      ],
      "metadata": {
        "colab": {
          "base_uri": "https://localhost:8080/"
        },
        "id": "troLnbp8l60L",
        "outputId": "151154c3-47a2-48ce-87ea-291e7ee4352c"
      },
      "execution_count": null,
      "outputs": [
        {
          "output_type": "stream",
          "name": "stdout",
          "text": [
            "{'name': 'Bob', 'city': 'New York'}\n"
          ]
        }
      ]
    },
    {
      "cell_type": "code",
      "source": [
        "#25. Write a code to check if the key \"city\" exists in the dictionary {'name': 'Alice', 'city': 'Paris'}."
      ],
      "metadata": {
        "id": "w9kkf72LmeGs"
      },
      "execution_count": null,
      "outputs": []
    },
    {
      "cell_type": "code",
      "source": [
        "person = {\n",
        "    'name':'Alice', 'city':'Paris'}\n",
        "if 'city' in person:\n",
        "  print(\"key 'city' exists.\")\n",
        "else:\n",
        "  print(\"key 'city' not exists\")"
      ],
      "metadata": {
        "colab": {
          "base_uri": "https://localhost:8080/"
        },
        "id": "_EU8dQ15nClu",
        "outputId": "f9b07f0a-611a-409c-f5cf-b039c6887a70"
      },
      "execution_count": null,
      "outputs": [
        {
          "output_type": "stream",
          "name": "stdout",
          "text": [
            "key 'city' exists.\n"
          ]
        }
      ]
    },
    {
      "cell_type": "code",
      "source": [
        "#26. Write a code to create a list, a tuple, and a dictionary, and print them all."
      ],
      "metadata": {
        "id": "gGmq-TH7nQre"
      },
      "execution_count": null,
      "outputs": []
    },
    {
      "cell_type": "code",
      "source": [
        "list = [1,2,3,4]\n",
        "my_tuple = (1,2,3,4)\n",
        "dict = { 'Hello':'Yeah'}\n",
        "print(list)\n",
        "print(my_tuple)\n",
        "print(dict)"
      ],
      "metadata": {
        "colab": {
          "base_uri": "https://localhost:8080/"
        },
        "id": "BnFCLYeTnxKt",
        "outputId": "6ec97dfb-5787-44e2-d102-5e3cf842b170"
      },
      "execution_count": null,
      "outputs": [
        {
          "output_type": "stream",
          "name": "stdout",
          "text": [
            "[1, 2, 3, 4]\n",
            "(1, 2, 3, 4)\n",
            "{'Hello': 'Yeah'}\n"
          ]
        }
      ]
    },
    {
      "cell_type": "code",
      "source": [
        "#27. Write a code to create a list of 5 random numbers between 1 and 100, sort it in ascending order, and print the\n",
        "#result.(replaced)"
      ],
      "metadata": {
        "id": "lXE-1Hs7oAgY"
      },
      "execution_count": null,
      "outputs": []
    },
    {
      "cell_type": "code",
      "source": [
        "import random\n",
        "\n",
        "numbers = random.sample(range(1, 101), 5)\n",
        "numbers.sort()\n",
        "\n",
        "print(numbers)"
      ],
      "metadata": {
        "colab": {
          "base_uri": "https://localhost:8080/"
        },
        "id": "_iIz3JzxoK_f",
        "outputId": "9aa6d823-8815-4309-c6ee-c9d88e99b4ce"
      },
      "execution_count": null,
      "outputs": [
        {
          "output_type": "stream",
          "name": "stdout",
          "text": [
            "[8, 28, 89, 96, 98]\n"
          ]
        }
      ]
    },
    {
      "cell_type": "code",
      "source": [
        "#28. Write a code to create a list with strings and print the element at the third index."
      ],
      "metadata": {
        "id": "wH99kPb-qVqn"
      },
      "execution_count": null,
      "outputs": []
    },
    {
      "cell_type": "code",
      "source": [
        "list = [\"anc\", \"abhdl\", \"pop\", \"yoyo\"]\n",
        "list[3]"
      ],
      "metadata": {
        "colab": {
          "base_uri": "https://localhost:8080/",
          "height": 35
        },
        "id": "pta4x8VfrFRf",
        "outputId": "1ec145db-f13f-474c-825e-3158678060d3"
      },
      "execution_count": null,
      "outputs": [
        {
          "output_type": "execute_result",
          "data": {
            "text/plain": [
              "'yoyo'"
            ],
            "application/vnd.google.colaboratory.intrinsic+json": {
              "type": "string"
            }
          },
          "metadata": {},
          "execution_count": 21
        }
      ]
    },
    {
      "cell_type": "code",
      "source": [
        "#29. Write a code to combine two dictionaries into one and print the result."
      ],
      "metadata": {
        "id": "N62kHQn3r_22"
      },
      "execution_count": null,
      "outputs": []
    },
    {
      "cell_type": "code",
      "source": [
        "#first case where keys are not same\n",
        "dict1 = {'name1': 'John', 'age1': 25}\n",
        "dict2 = {'name2': 'Heera', 'age2': 15}\n",
        "\n",
        "combined = dict1 | dict2\n",
        "print(combined)\n"
      ],
      "metadata": {
        "colab": {
          "base_uri": "https://localhost:8080/"
        },
        "id": "QABeHnAWsQzB",
        "outputId": "442d3f85-cc51-4d7c-e692-17b44d374b12"
      },
      "execution_count": null,
      "outputs": [
        {
          "output_type": "stream",
          "name": "stdout",
          "text": [
            "{'name1': 'John', 'age1': 25, 'name2': 'Heera', 'age2': 15}\n"
          ]
        }
      ]
    },
    {
      "cell_type": "code",
      "source": [
        "#second case in which keys are same so dict2 will overwrite\n",
        "dict1 = {'name': 'John', 'age': 25}\n",
        "dict2 = {'name': 'Heera', 'age': 15}\n",
        "\n",
        "combined = dict1 | dict2\n",
        "print(combined)\n"
      ],
      "metadata": {
        "colab": {
          "base_uri": "https://localhost:8080/"
        },
        "id": "12aqkzw3s6j4",
        "outputId": "ea61ee33-c07e-4eb1-cb22-04048ff632b1"
      },
      "execution_count": null,
      "outputs": [
        {
          "output_type": "stream",
          "name": "stdout",
          "text": [
            "{'name': 'Heera', 'age': 15}\n"
          ]
        }
      ]
    },
    {
      "cell_type": "code",
      "source": [
        "#30. Write a code to convert a list of strings into a set."
      ],
      "metadata": {
        "id": "aMqji3dytpq0"
      },
      "execution_count": null,
      "outputs": []
    },
    {
      "cell_type": "code",
      "source": [
        "fruits = [\"apple\", \"banana\", \"cherry\", \"apple\"]\n",
        "fruit_set = set(fruits)\n",
        "\n",
        "print(fruit_set)\n"
      ],
      "metadata": {
        "colab": {
          "base_uri": "https://localhost:8080/"
        },
        "id": "C5pBfv3QtyTj",
        "outputId": "f2771e94-3460-4c53-903b-e1062d947ec3"
      },
      "execution_count": null,
      "outputs": [
        {
          "output_type": "stream",
          "name": "stdout",
          "text": [
            "{'apple', 'cherry', 'banana'}\n"
          ]
        }
      ]
    },
    {
      "cell_type": "code",
      "source": [],
      "metadata": {
        "id": "COwsrpXWt90W"
      },
      "execution_count": null,
      "outputs": []
    }
  ]
}